{
 "cells": [
  {
   "cell_type": "code",
   "execution_count": null,
   "id": "908dd699",
   "metadata": {},
   "outputs": [],
   "source": [
    "using SeisNoise, SeisIO, Plots, HDF5\n",
    "\n",
    "fs = 40.0 # sampling frequency in Hz\n",
    "freqmin,freqmax = 0.01,16.0 # min and max frequencies\n",
    "cc_step, cc_len = 450, 1800 # corrleation step and length in S\n",
    "maxlag = 60. # maximum lag time in correlation\n",
    "\n",
    "for j in 2015:2020\n",
    "        \n",
    "        \n",
    "    for i in 1:366 \n",
    "\n",
    "        if i<10\n",
    "            a=string(\"/data/wsd01/OOI-Data/HYS13/\",string(j),\"/00\",string(i),\"/HYS13.OO.\",string(j),\".00\",string(i),\".BHZ\")\n",
    "            b=string(\"/data/wsd01/OOI-Data/HYS13/\",string(j),\"/00\",string(i),\"/HYS13.OO.\",string(j),\".00\",string(i),\".BHN\")\n",
    "        elseif i>=10 && i<100\n",
    "            a=string(\"/data/wsd01/OOI-Data/HYS13/\",string(j),\"/0\",string(i),\"/HYS13.OO.\",string(j),\".0\",string(i),\".BHZ\")\n",
    "            b=string(\"/data/wsd01/OOI-Data/HYS13/\",string(j),\"/0\",string(i),\"/HYS13.OO.\",string(j),\".0\",string(i),\".BHN\")\n",
    "        elseif i>=100 && i<1000\n",
    "            a=string(\"/data/wsd01/OOI-Data/HYS13/\",string(j),\"/\",string(i),\"/HYS13.OO.\",string(j),\".\",string(i),\".BHZ\")\n",
    "            b=string(\"/data/wsd01/OOI-Data/HYS13/\",string(j),\"/\",string(i),\"/HYS13.OO.\",string(j),\".\",string(i),\".BHN\")\n",
    "        end\n",
    "\n",
    "        try \n",
    "            S1=read_data(a) \n",
    "            S2=read_data(b)\n",
    "            S1.fs=[40.0]\n",
    "            S2.fs=[40.0]\n",
    "        \n",
    "            process_raw!(S1,fs)\n",
    "            process_raw!(S2,fs)\n",
    "        \n",
    "\n",
    "            R = RawData.([S1,S2],cc_len,cc_step)\n",
    "            detrend!.(R)\n",
    "            taper!.(R)\n",
    "            bandpass!.(R,freqmin,freqmax,zerophase=true)\n",
    "            FFT = rfft.(R)\n",
    "            whiten!.(FFT,freqmin,freqmax)\n",
    "            C = correlate(FFT[1],FFT[2],maxlag)\n",
    "            save_corr(C,\"/data/wsd01/corrdata/raw/\")\n",
    " \n",
    "        catch; \n",
    "            println(\"cannot process \"*a) \n",
    "               \n",
    "        end\n",
    "    end\n",
    "end\n"
   ]
  }
 ],
 "metadata": {
  "kernelspec": {
   "display_name": "julia (SHARED)",
   "language": "julia",
   "name": "julia-1.6"
  },
  "language_info": {
   "file_extension": ".jl",
   "mimetype": "application/julia",
   "name": "julia",
   "version": "1.6.7"
  }
 },
 "nbformat": 4,
 "nbformat_minor": 5
}
