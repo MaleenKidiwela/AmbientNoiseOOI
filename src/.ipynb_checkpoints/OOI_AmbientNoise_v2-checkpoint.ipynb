{
 "cells": [
  {
   "cell_type": "markdown",
   "id": "a9339ddc",
   "metadata": {},
   "source": [
    "## SeisNoise Implementation for OOI Cabled Array Data\n",
    "\n",
    "### Standard SeisNoise code adapted to save cross correlation files of multiple years between two specific stations\n"
   ]
  },
  {
   "cell_type": "code",
   "execution_count": 1,
   "id": "6e3726ed",
   "metadata": {},
   "outputs": [
    {
     "name": "stderr",
     "output_type": "stream",
     "text": [
      "WARNING: could not import HDF5.Group into _hdf5_implementation\n",
      "WARNING: could not import HDF5.Dataset into _hdf5_implementation\n",
      "┌ Warning: Error requiring `HDF5` from `Plots`\n",
      "│   exception = (LoadError(\"/home/jupyter_share/.julia/packages/Plots/GGa6i/src/backends/hdf5.jl\", 36, UndefVarError(:Group)), Union{Ptr{Nothing}, Base.InterpreterIP}[Ptr{Nothing} @0x00007f591840ec7f, Ptr{Nothing} @0x00007f59184a15cc, Ptr{Nothing} @0x00007f59184a1b35, Ptr{Nothing} @0x00007f59184a180e, Ptr{Nothing} @0x00007f59184a2451, Ptr{Nothing} @0x00007f59184a2ed7, Base.InterpreterIP in top-level CodeInfo for Plots._hdf5_implementation at statement 4, Ptr{Nothing} @0x00007f59184be7b1, Ptr{Nothing} @0x00007f59184beee3, Ptr{Nothing} @0x00007f59184be9fc, Ptr{Nothing} @0x00007f59184be9fc, Ptr{Nothing} @0x00007f59184c05c9, Ptr{Nothing} @0x00007f58fd862307, Ptr{Nothing} @0x00007f59184852b9, Ptr{Nothing} @0x00007f58fd769582, Ptr{Nothing} @0x00007f58fd4d3695, Ptr{Nothing} @0x00007f59184852b9, Ptr{Nothing} @0x00007f5918496096, Ptr{Nothing} @0x00007f58f6bc205e, Ptr{Nothing} @0x00007f59184852b9, Ptr{Nothing} @0x00007f59184a1b55, Ptr{Nothing} @0x00007f59184a180e, Ptr{Nothing} @0x00007f59184a2451, Ptr{Nothing} @0x00007f59184a2ed7, Base.InterpreterIP in top-level CodeInfo for Plots at statement 10, Ptr{Nothing} @0x00007f59184be7b1, Ptr{Nothing} @0x00007f59184c05c9, Ptr{Nothing} @0x00007f58f6bc1fa9, Ptr{Nothing} @0x00007f58f6bc1fdd, Ptr{Nothing} @0x00007f59184852b9, Ptr{Nothing} @0x00007f59184a1b55, Ptr{Nothing} @0x00007f59184a180e, Ptr{Nothing} @0x00007f59184a24e5, Ptr{Nothing} @0x00007f59184a27d0, Ptr{Nothing} @0x00007f59184a2c8a, Base.InterpreterIP in MethodInstance for err(::Any, ::Module, ::String, ::String, ::Any) at statement 8, Ptr{Nothing} @0x00007f58f6bc1ef5, Ptr{Nothing} @0x00007f58f6bc1f1d, Ptr{Nothing} @0x00007f59184852b9, Ptr{Nothing} @0x00007f59184a1b55, Ptr{Nothing} @0x00007f59184a180e, Ptr{Nothing} @0x00007f59184a24e5, Ptr{Nothing} @0x00007f59184a27d0, Ptr{Nothing} @0x00007f59184a2c8a, Base.InterpreterIP in MethodInstance for withpath(::Any, ::String) at statement 10, Ptr{Nothing} @0x00007f58f6bc1d97, Ptr{Nothing} @0x00007f58f6bc1e6d, Ptr{Nothing} @0x00007f59184852b9, Ptr{Nothing} @0x00007f59184a1b55, Ptr{Nothing} @0x00007f59184a180e, Ptr{Nothing} @0x00007f59184a2451, Ptr{Nothing} @0x00007f59184a2c8a, Base.InterpreterIP in MethodInstance for listenpkg(::Any, ::Base.PkgId) at statement 3, Ptr{Nothing} @0x00007f58f6bbe54f, Ptr{Nothing} @0x00007f58f6bbf5ad, Ptr{Nothing} @0x00007f59184852b9, Ptr{Nothing} @0x00007f59184be135, Ptr{Nothing} @0x00007f59184b3dfc, Ptr{Nothing} @0x00007f58f6b5f109, Ptr{Nothing} @0x00007f58f6b6042f, Ptr{Nothing} @0x00007f58f6b626b0, Ptr{Nothing} @0x00007f58f6b64a2d, Ptr{Nothing} @0x00007f58f6b6578c, Ptr{Nothing} @0x00007f59184852b9, Ptr{Nothing} @0x00007f59184bd951, Ptr{Nothing} @0x00007f59184bfa17, Ptr{Nothing} @0x00007f59184be9fc, Ptr{Nothing} @0x00007f59184c05c9, Ptr{Nothing} @0x00007f58f6b9103c, Ptr{Nothing} @0x00007f58f6b913d9, Ptr{Nothing} @0x00007f59184852b9, Ptr{Nothing} @0x00007f58f6b8df33, Ptr{Nothing} @0x00007f59184852b9, Ptr{Nothing} @0x00007f5918496096, Ptr{Nothing} @0x00007f58f6b8808e, Ptr{Nothing} @0x00007f58f6b882be, Ptr{Nothing} @0x00007f58f6b882dc, Ptr{Nothing} @0x00007f59184852b9, Ptr{Nothing} @0x00007f59184a68fa])\n",
      "└ @ Requires /home/jupyter_share/.julia/packages/Requires/Z8rfN/src/require.jl:51\n"
     ]
    }
   ],
   "source": [
    "using SeisNoise, SeisIO, Plots, HDF5"
   ]
  },
  {
   "cell_type": "code",
   "execution_count": 2,
   "id": "c75b2a90",
   "metadata": {},
   "outputs": [
    {
     "data": {
      "text/plain": [
       "200.0"
      ]
     },
     "execution_count": 2,
     "metadata": {},
     "output_type": "execute_result"
    }
   ],
   "source": [
    "fs = 40.0 # sampling frequency in Hz\n",
    "freqmin,freqmax = 0.01,16.0 # min and max frequencies\n",
    "cc_step, cc_len = 450, 1800 # corrleation step and length in S\n",
    "maxlag = 200. # maximum lag time in correlation"
   ]
  },
  {
   "cell_type": "code",
   "execution_count": null,
   "id": "ac52eb28",
   "metadata": {},
   "outputs": [
    {
     "name": "stdout",
     "output_type": "stream",
     "text": [
      "cannot process /data/wsd01/OOI-Data/HYS14/2015/066/HYS14.OO.2015.066.BHZ\n",
      "cannot process /data/wsd01/OOI-Data/HYS14/2015/161/HYS14.OO.2015.161.BHZ\n",
      "cannot process /data/wsd01/OOI-Data/HYS14/2015/162/HYS14.OO.2015.162.BHZ\n",
      "cannot process /data/wsd01/OOI-Data/HYS14/2015/165/HYS14.OO.2015.165.BHZ\n",
      "cannot process /data/wsd01/OOI-Data/HYS14/2015/166/HYS14.OO.2015.166.BHZ\n",
      "cannot process /data/wsd01/OOI-Data/HYS14/2015/366/HYS14.OO.2015.366.BHZ\n",
      "cannot process /data/wsd01/OOI-Data/HYS14/2016/198/HYS14.OO.2016.198.BHZ\n",
      "cannot process /data/wsd01/OOI-Data/HYS14/2016/199/HYS14.OO.2016.199.BHZ\n",
      "cannot process /data/wsd01/OOI-Data/HYS14/2016/285/HYS14.OO.2016.285.BHZ\n",
      "cannot process /data/wsd01/OOI-Data/HYS14/2017/008/HYS14.OO.2017.008.BHZ\n",
      "cannot process /data/wsd01/OOI-Data/HYS14/2017/165/HYS14.OO.2017.165.BHZ\n",
      "cannot process /data/wsd01/OOI-Data/HYS14/2017/193/HYS14.OO.2017.193.BHZ\n",
      "cannot process /data/wsd01/OOI-Data/HYS14/2017/281/HYS14.OO.2017.281.BHZ\n",
      "cannot process /data/wsd01/OOI-Data/HYS14/2017/318/HYS14.OO.2017.318.BHZ\n",
      "cannot process /data/wsd01/OOI-Data/HYS14/2017/366/HYS14.OO.2017.366.BHZ\n",
      "cannot process /data/wsd01/OOI-Data/HYS14/2018/070/HYS14.OO.2018.070.BHZ\n",
      "cannot process /data/wsd01/OOI-Data/HYS14/2018/071/HYS14.OO.2018.071.BHZ\n",
      "cannot process /data/wsd01/OOI-Data/HYS14/2018/223/HYS14.OO.2018.223.BHZ\n",
      "cannot process /data/wsd01/OOI-Data/HYS14/2018/224/HYS14.OO.2018.224.BHZ\n",
      "cannot process /data/wsd01/OOI-Data/HYS14/2018/235/HYS14.OO.2018.235.BHZ\n",
      "cannot process /data/wsd01/OOI-Data/HYS14/2018/236/HYS14.OO.2018.236.BHZ\n",
      "cannot process /data/wsd01/OOI-Data/HYS14/2018/237/HYS14.OO.2018.237.BHZ\n",
      "cannot process /data/wsd01/OOI-Data/HYS14/2018/238/HYS14.OO.2018.238.BHZ\n",
      "cannot process /data/wsd01/OOI-Data/HYS14/2018/239/HYS14.OO.2018.239.BHZ\n",
      "cannot process /data/wsd01/OOI-Data/HYS14/2018/241/HYS14.OO.2018.241.BHZ\n",
      "cannot process /data/wsd01/OOI-Data/HYS14/2018/257/HYS14.OO.2018.257.BHZ\n",
      "cannot process /data/wsd01/OOI-Data/HYS14/2018/272/HYS14.OO.2018.272.BHZ\n",
      "cannot process /data/wsd01/OOI-Data/HYS14/2018/273/HYS14.OO.2018.273.BHZ\n",
      "cannot process /data/wsd01/OOI-Data/HYS14/2018/274/HYS14.OO.2018.274.BHZ\n",
      "cannot process /data/wsd01/OOI-Data/HYS14/2018/352/HYS14.OO.2018.352.BHZ\n",
      "cannot process /data/wsd01/OOI-Data/HYS14/2018/353/HYS14.OO.2018.353.BHZ\n",
      "cannot process /data/wsd01/OOI-Data/HYS14/2018/354/HYS14.OO.2018.354.BHZ\n",
      "cannot process /data/wsd01/OOI-Data/HYS14/2018/366/HYS14.OO.2018.366.BHZ\n",
      "cannot process /data/wsd01/OOI-Data/HYS14/2019/147/HYS14.OO.2019.147.BHZ\n",
      "cannot process /data/wsd01/OOI-Data/HYS14/2019/163/HYS14.OO.2019.163.BHZ\n",
      "cannot process /data/wsd01/OOI-Data/HYS14/2019/164/HYS14.OO.2019.164.BHZ\n",
      "cannot process /data/wsd01/OOI-Data/HYS14/2019/165/HYS14.OO.2019.165.BHZ\n",
      "cannot process /data/wsd01/OOI-Data/HYS14/2019/166/HYS14.OO.2019.166.BHZ\n",
      "cannot process /data/wsd01/OOI-Data/HYS14/2019/167/HYS14.OO.2019.167.BHZ\n",
      "cannot process /data/wsd01/OOI-Data/HYS14/2019/168/HYS14.OO.2019.168.BHZ\n",
      "cannot process /data/wsd01/OOI-Data/HYS14/2019/169/HYS14.OO.2019.169.BHZ\n",
      "cannot process /data/wsd01/OOI-Data/HYS14/2019/170/HYS14.OO.2019.170.BHZ\n",
      "cannot process /data/wsd01/OOI-Data/HYS14/2019/171/HYS14.OO.2019.171.BHZ\n",
      "cannot process /data/wsd01/OOI-Data/HYS14/2019/172/HYS14.OO.2019.172.BHZ\n",
      "cannot process /data/wsd01/OOI-Data/HYS14/2019/173/HYS14.OO.2019.173.BHZ\n",
      "cannot process /data/wsd01/OOI-Data/HYS14/2019/174/HYS14.OO.2019.174.BHZ\n",
      "cannot process /data/wsd01/OOI-Data/HYS14/2019/175/HYS14.OO.2019.175.BHZ\n",
      "cannot process /data/wsd01/OOI-Data/HYS14/2019/176/HYS14.OO.2019.176.BHZ\n",
      "cannot process /data/wsd01/OOI-Data/HYS14/2019/177/HYS14.OO.2019.177.BHZ\n",
      "cannot process /data/wsd01/OOI-Data/HYS14/2019/184/HYS14.OO.2019.184.BHZ\n",
      "cannot process /data/wsd01/OOI-Data/HYS14/2019/220/HYS14.OO.2019.220.BHZ\n",
      "cannot process /data/wsd01/OOI-Data/HYS14/2019/221/HYS14.OO.2019.221.BHZ\n",
      "cannot process /data/wsd01/OOI-Data/HYS14/2019/233/HYS14.OO.2019.233.BHZ\n",
      "cannot process /data/wsd01/OOI-Data/HYS14/2019/234/HYS14.OO.2019.234.BHZ\n",
      "cannot process /data/wsd01/OOI-Data/HYS14/2019/235/HYS14.OO.2019.235.BHZ\n",
      "cannot process /data/wsd01/OOI-Data/HYS14/2019/236/HYS14.OO.2019.236.BHZ\n",
      "cannot process /data/wsd01/OOI-Data/HYS14/2019/237/HYS14.OO.2019.237.BHZ\n",
      "cannot process /data/wsd01/OOI-Data/HYS14/2019/238/HYS14.OO.2019.238.BHZ\n",
      "cannot process /data/wsd01/OOI-Data/HYS14/2019/239/HYS14.OO.2019.239.BHZ\n",
      "cannot process /data/wsd01/OOI-Data/HYS14/2019/240/HYS14.OO.2019.240.BHZ\n",
      "cannot process /data/wsd01/OOI-Data/HYS14/2019/241/HYS14.OO.2019.241.BHZ\n",
      "cannot process /data/wsd01/OOI-Data/HYS14/2019/242/HYS14.OO.2019.242.BHZ\n",
      "cannot process /data/wsd01/OOI-Data/HYS14/2019/243/HYS14.OO.2019.243.BHZ\n",
      "cannot process /data/wsd01/OOI-Data/HYS14/2019/244/HYS14.OO.2019.244.BHZ\n",
      "cannot process /data/wsd01/OOI-Data/HYS14/2019/245/HYS14.OO.2019.245.BHZ\n",
      "cannot process /data/wsd01/OOI-Data/HYS14/2019/246/HYS14.OO.2019.246.BHZ\n",
      "cannot process /data/wsd01/OOI-Data/HYS14/2019/251/HYS14.OO.2019.251.BHZ\n",
      "cannot process /data/wsd01/OOI-Data/HYS14/2019/257/HYS14.OO.2019.257.BHZ\n",
      "cannot process /data/wsd01/OOI-Data/HYS14/2019/258/HYS14.OO.2019.258.BHZ\n",
      "cannot process /data/wsd01/OOI-Data/HYS14/2019/259/HYS14.OO.2019.259.BHZ\n",
      "cannot process /data/wsd01/OOI-Data/HYS14/2019/260/HYS14.OO.2019.260.BHZ\n",
      "cannot process /data/wsd01/OOI-Data/HYS14/2019/268/HYS14.OO.2019.268.BHZ\n",
      "cannot process /data/wsd01/OOI-Data/HYS14/2019/270/HYS14.OO.2019.270.BHZ\n",
      "cannot process /data/wsd01/OOI-Data/HYS14/2019/271/HYS14.OO.2019.271.BHZ\n",
      "cannot process /data/wsd01/OOI-Data/HYS14/2019/272/HYS14.OO.2019.272.BHZ\n",
      "cannot process /data/wsd01/OOI-Data/HYS14/2019/278/HYS14.OO.2019.278.BHZ\n",
      "cannot process /data/wsd01/OOI-Data/HYS14/2019/283/HYS14.OO.2019.283.BHZ\n",
      "cannot process /data/wsd01/OOI-Data/HYS14/2019/366/HYS14.OO.2019.366.BHZ\n"
     ]
    }
   ],
   "source": [
    "for j in 2015:2020      \n",
    "\n",
    "    for i in 1:366 \n",
    "\n",
    "        if i<10\n",
    "            a=string(\"/data/wsd01/OOI-Data/HYS14/\",string(j),\"/00\",string(i),\"/HYS14.OO.\",string(j),\".00\",string(i),\".BHZ\")\n",
    "            b=string(\"/data/wsd01/OOI-Data/HYSB1/\",string(j),\"/00\",string(i),\"/HYSB1.OO.\",string(j),\".00\",string(i),\".BHZ\")\n",
    "        elseif i>=10 && i<100\n",
    "            a=string(\"/data/wsd01/OOI-Data/HYS14/\",string(j),\"/0\",string(i),\"/HYS14.OO.\",string(j),\".0\",string(i),\".BHZ\")\n",
    "            b=string(\"/data/wsd01/OOI-Data/HYSB1/\",string(j),\"/0\",string(i),\"/HYSB1.OO.\",string(j),\".0\",string(i),\".BHZ\")\n",
    "        elseif i>=100 && i<1000\n",
    "            a=string(\"/data/wsd01/OOI-Data/HYS14/\",string(j),\"/\",string(i),\"/HYS14.OO.\",string(j),\".\",string(i),\".BHZ\")\n",
    "            b=string(\"/data/wsd01/OOI-Data/HYSB1/\",string(j),\"/\",string(i),\"/HYSB1.OO.\",string(j),\".\",string(i),\".BHZ\")\n",
    "        end\n",
    "\n",
    "        try \n",
    "            S1=read_data(a) \n",
    "            S2=read_data(b)\n",
    "            S1.fs=[40.0]\n",
    "            S2.fs=[40.0]\n",
    "        \n",
    "            process_raw!(S1,fs)\n",
    "            process_raw!(S2,fs)\n",
    "        \n",
    "\n",
    "            R = RawData.([S1,S2],cc_len,cc_step)\n",
    "            detrend!.(R)\n",
    "            taper!.(R)\n",
    "            bandpass!.(R,freqmin,freqmax,zerophase=true)\n",
    "            FFT = rfft.(R)\n",
    "            whiten!.(FFT,freqmin,freqmax)\n",
    "            C = correlate(FFT[1],FFT[2],maxlag)\n",
    "            save_corr(C,\"/data/wsd01/corrdata/200lag/\")\n",
    " \n",
    "        catch; \n",
    "            println(\"cannot process \"*a) \n",
    "               \n",
    "        end\n",
    "    end\n",
    "end\n"
   ]
  },
  {
   "cell_type": "code",
   "execution_count": null,
   "id": "bd581495",
   "metadata": {},
   "outputs": [],
   "source": [
    "readdir(\"/data/wsd01/OOI-Data/HYS14/2015/066/\")"
   ]
  },
  {
   "cell_type": "markdown",
   "id": "d3ceee24",
   "metadata": {},
   "source": [
    "### standard seisnoise code for plotting cross correlation function for one day between two stations"
   ]
  },
  {
   "cell_type": "code",
   "execution_count": null,
   "id": "3685bc2c",
   "metadata": {},
   "outputs": [],
   "source": [
    "using SeisNoise, SeisIO, Plots\n",
    "fs = 36. # sampling frequency in Hz\n",
    "freqmin,freqmax = 0.1,9.0 # min and max frequencies\n",
    "cc_step, cc_len = 450, 1800 # corrleation step and length in S\n",
    "maxlag = 60. # maximum lag time in correlation\n",
    "\n",
    "j=2015\n",
    "i=63\n",
    "        if i<10\n",
    "            a=string(\"/data/wsd01/OOI-Data/HYS14/\",string(j),\"/00\",string(i),\"/HYS14.OO.\",string(j),\".00\",string(i),\".SHE\")\n",
    "            b=string(\"/data/wsd01/OOI-Data/HYS14/\",string(j),\"/00\",string(i),\"/HYS14.OO.\",string(j),\".00\",string(i),\".SHN\")\n",
    "        elseif i>=10 && i<100\n",
    "            a=string(\"/data/wsd01/OOI-Data/HYS14/\",string(j),\"/0\",string(i),\"/HYS14.OO.\",string(j),\".0\",string(i),\".SHE\")\n",
    "            b=string(\"/data/wsd01/OOI-Data/HYS14/\",string(j),\"/0\",string(i),\"/HYS14.OO.\",string(j),\".0\",string(i),\".SHN\")\n",
    "        elseif i>=100 && i<1000\n",
    "            a=string(\"/data/wsd01/OOI-Data/HYS14/\",string(j),\"/\",string(i),\"/HYS14.OO.\",string(j),\".\",string(i),\".SHE\")\n",
    "            b=string(\"/data/wsd01/OOI-Data/HYS14/\",string(j),\"/\",string(i),\"/HYS14.OO.\",string(j),\".\",string(i),\".SHN\")\n",
    "        end\n",
    "\n",
    "        S1=read_data(a)\n",
    "        S2=read_data(b)\n",
    "\n",
    "        process_raw!(S1,fs)\n",
    "        process_raw!(S2,fs)\n",
    "\n",
    "        R = RawData.([S1,S2],cc_len,cc_step)\n",
    "        detrend!.(R)\n",
    "        taper!.(R)\n",
    "        bandpass!.(R,freqmin,freqmax,zerophase=true)\n",
    "        FFT = rfft.(R)\n",
    "        whiten!.(FFT,freqmin,freqmax)\n",
    "        C = correlate(FFT[1],FFT[2],maxlag)\n",
    "        clean_up!(C,freqmin,freqmax)\n",
    "        abs_max!(C)\n",
    "        plot(C)\n"
   ]
  },
  {
   "cell_type": "code",
   "execution_count": null,
   "id": "65d6451e",
   "metadata": {},
   "outputs": [],
   "source": [
    "using SeisNoise, SeisIO, Plots\n",
    "fs = 40. # sampling frequency in Hz\n",
    "freqmin,freqmax = 0.1,20 # min and max frequencies\n",
    "cc_step, cc_len = 450, 1800 # corrleation step and length in S\n",
    "maxlag = 60. # maximum lag time in correlation\n",
    "\n",
    "j=2015\n",
    "i=69\n",
    "        if i<10\n",
    "            a=string(\"/data/wsd01/OOI-Data/HYSB1/\",string(j),\"/00\",string(i),\"/HYSB1.OO.\",string(j),\".00\",string(i),\".SHZ\")\n",
    "            b=string(\"/data/wsd01/OOI-Data/HYS14/\",string(j),\"/00\",string(i),\"/HYS14.OO.\",string(j),\".00\",string(i),\".SHZ\")\n",
    "        elseif i>=10 && i<100\n",
    "            a=string(\"/data/wsd01/OOI-Data/HYSB1/\",string(j),\"/0\",string(i),\"/HYSB1.OO.\",string(j),\".0\",string(i),\".SHZ\")\n",
    "            b=string(\"/data/wsd01/OOI-Data/HYS14/\",string(j),\"/0\",string(i),\"/HYS14.OO.\",string(j),\".0\",string(i),\".SHZ\")\n",
    "        elseif i>=100 && i<1000\n",
    "            a=string(\"/data/wsd01/OOI-Data/HYSB1/\",string(j),\"/\",string(i),\"/HYSB1.OO.\",string(j),\".\",string(i),\".SHZ\")\n",
    "            b=string(\"/data/wsd01/OOI-Data/HYS14/\",string(j),\"/\",string(i),\"/HYS14.OO.\",string(j),\".\",string(i),\".SHZ\")\n",
    "        end\n",
    "\n",
    "S1=read_data(a)\n",
    "S2=read_data(b)\n",
    "S1.fs=[40.0]\n",
    "S2.fs=[40.0]\n",
    "S2"
   ]
  },
  {
   "cell_type": "code",
   "execution_count": null,
   "id": "34b7ad92",
   "metadata": {},
   "outputs": [],
   "source": [
    "S1.fs"
   ]
  },
  {
   "cell_type": "code",
   "execution_count": null,
   "id": "74388e4e",
   "metadata": {},
   "outputs": [],
   "source": [
    "S2.fs"
   ]
  },
  {
   "cell_type": "code",
   "execution_count": null,
   "id": "bfc2c0ba",
   "metadata": {},
   "outputs": [],
   "source": [
    "process_raw!(S1,fs)\n",
    "S1"
   ]
  },
  {
   "cell_type": "code",
   "execution_count": null,
   "id": "2712bd62",
   "metadata": {},
   "outputs": [],
   "source": [
    "process_raw!(S2,fs)\n",
    "S2[1].fs"
   ]
  },
  {
   "cell_type": "code",
   "execution_count": null,
   "id": "5fc23d2f",
   "metadata": {},
   "outputs": [],
   "source": [
    "=[40.0]\n",
    "S2"
   ]
  },
  {
   "cell_type": "code",
   "execution_count": null,
   "id": "6cb715f1",
   "metadata": {},
   "outputs": [],
   "source": [
    "S2.fs"
   ]
  },
  {
   "cell_type": "markdown",
   "id": "470d0719",
   "metadata": {},
   "source": [
    "### Save correlation matrix for one day -> debugging portal"
   ]
  },
  {
   "cell_type": "code",
   "execution_count": null,
   "id": "8d310287",
   "metadata": {},
   "outputs": [],
   "source": [
    "j=2017\n",
    "i=287        \n",
    "        if i<10\n",
    "            a=string(\"/data/wsd01/OOI-Data/HYS12/\",string(j),\"/00\",string(i),\"/HYS12.OO.\",string(j),\".00\",string(i),\".SHE\")\n",
    "            b=string(\"/data/wsd01/OOI-Data/HYS12/\",string(j),\"/00\",string(i),\"/HYS12.OO.\",string(j),\".00\",string(i),\".SHN\")\n",
    "        elseif i>=10 && i<100\n",
    "            a=string(\"/data/wsd01/OOI-Data/HYS12/\",string(j),\"/0\",string(i),\"/HYS12.OO.\",string(j),\".0\",string(i),\".SHE\")\n",
    "            b=string(\"/data/wsd01/OOI-Data/HYS12/\",string(j),\"/0\",string(i),\"/HYS12.OO.\",string(j),\".0\",string(i),\".SHN\")\n",
    "        elseif i>=100 && i<1000\n",
    "            a=string(\"/data/wsd01/OOI-Data/HYS12/\",string(j),\"/\",string(i),\"/HYS12.OO.\",string(j),\".\",string(i),\".SHE\")\n",
    "            b=string(\"/data/wsd01/OOI-Data/HYS12/\",string(j),\"/\",string(i),\"/HYS12.OO.\",string(j),\".\",string(i),\".SHN\")\n",
    "        end\n",
    "\n",
    "        y=0\n",
    "        try S1=read_data(a) catch; y=1 end\n",
    "        try S2=read_data(b) catch; y=1 end\n",
    "        try process_raw!(S1,fs) catch; y=1 end\n",
    "        try process_raw!(S2,fs) catch; y=1 end\n",
    "        \n",
    "        if y==0\n",
    "            S1=read_data(a)\n",
    "            S2=read_data(b)\n",
    "            process_raw!(S1,fs)\n",
    "            process_raw!(S2,fs)\n",
    "\n",
    "            R = RawData.([S1,S2],cc_len,cc_step)\n",
    "            detrend!.(R)\n",
    "            taper!.(R)\n",
    "            bandpass!.(R,freqmin,freqmax,zerophase=true)\n",
    "            FFT = rfft.(R)\n",
    "            whiten!.(FFT,freqmin,freqmax)\n",
    "            C = correlate(FFT[1],FFT[2],maxlag)\n",
    "            #save_corr(C,\"/data/wsd01/corrdata/\")\n",
    "        end"
   ]
  },
  {
   "cell_type": "markdown",
   "id": "e5783808",
   "metadata": {},
   "source": [
    "### checks the available date entries withing the JLD file"
   ]
  },
  {
   "cell_type": "code",
   "execution_count": null,
   "id": "16ff614a",
   "metadata": {},
   "outputs": [],
   "source": [
    "using JLD2\n",
    "println(\"hi there again\")\n",
    "#jldopen(\"/data/wsd01/corrdata/OO.HYS14..BHZ.OO.HYSB1..BHZ.jld2\")\n",
    "\n",
    "# /data/wsd01/corrdata/OO.HYS11..SHE.OO.HYS11..SHN.jld2\n",
    "# /data/wsd01/corrdata/OO.HYS12..SHE.OO.HYS12..SHN.jld2\n",
    "# /data/wsd01/corrdata/OO.HYS13..SHE.OO.HYS13..SHN.jld2\n",
    "# /data/wsd01/corrdata/OO.HYS14..BHE.OO.HYS14..BHN.jld2\n",
    "# /data/wsd01/corrdata/OO.HYSB1..BHE.OO.HYSB1..BHN.jld2\n",
    "# /data/wsd01/corrdata/OO.HYS14..BHZ.OO.HYSB1..BHZ.jld2"
   ]
  },
  {
   "cell_type": "markdown",
   "id": "4e74d297",
   "metadata": {},
   "source": [
    "### Loads correlation for one day --> EN: between East and North , ZZ: between Z and Z channel"
   ]
  },
  {
   "cell_type": "code",
   "execution_count": null,
   "id": "8f15d963",
   "metadata": {
    "scrolled": true
   },
   "outputs": [],
   "source": [
    "d=load_corr(\"/data/wsd01/corrdata/OO.HYS14..BHE.OO.HYS14..BHN.jld2\",\"EN\",day=\"2016-01-05\")"
   ]
  },
  {
   "cell_type": "markdown",
   "id": "a35429f7",
   "metadata": {},
   "source": [
    "## Run Below codes for loading files and running DV/V"
   ]
  },
  {
   "cell_type": "markdown",
   "id": "00497ed5",
   "metadata": {},
   "source": [
    "### loads Saved Correlation functions and Stack them daily"
   ]
  },
  {
   "cell_type": "code",
   "execution_count": null,
   "id": "50b4b0ad",
   "metadata": {},
   "outputs": [],
   "source": [
    "using SeisNoise, SeisIO, Plots\n",
    "using Dates \n",
    "d=load_corr(\"/data/wsd01/corrdata/raw/OO.HYS14..BHZ.OO.HYSB1..BHZ.jld2\",\"ZZ\")\n",
    "dailystk=stack(d,interval=Day(1))\n",
    "allstk=stack(d,allstack=true)\n",
    "plot(allstk)"
   ]
  },
  {
   "cell_type": "code",
   "execution_count": null,
   "id": "4056d51f",
   "metadata": {},
   "outputs": [],
   "source": [
    "clean_up!(dailystk,0.1,0.2)\n",
    "abs_max!(dailystk)\n",
    "plot(dailystk)"
   ]
  },
  {
   "cell_type": "code",
   "execution_count": null,
   "id": "ca2ecc88",
   "metadata": {},
   "outputs": [],
   "source": [
    "dailystk"
   ]
  },
  {
   "cell_type": "markdown",
   "id": "d20495a2",
   "metadata": {},
   "source": [
    "### Resolving DV/V from Allstack and Daily Stack"
   ]
  },
  {
   "cell_type": "code",
   "execution_count": null,
   "id": "c566bc2b",
   "metadata": {},
   "outputs": [],
   "source": [
    "using SeisDvv\n",
    "fs=40.0     # sample frequency\n",
    "win_len=30.0  # sliding window length\n",
    "win_step=10. # sliding window step\n",
    "j=1958\n",
    "dvt=zeros(j)\n",
    "cct=zeros(j)\n",
    "\n",
    "for i in 1:j#1890\n",
    "    S1=Array(allstk.corr[:])\n",
    "    S2=Array(dailystk.corr[:,i])\n",
    "    tmin = 25.\n",
    "    tmax = 30.\n",
    "    window = collect(range(Int(floor(tmin*fs)),Int(floor(tmax*fs)),step=1))\n",
    "    fmin = 0.1\n",
    "    fmax = 0.2\n",
    "\n",
    "    function evenly_spaced(a, b, n)\n",
    "        h = (b-a)/(n-1)\n",
    "        collect(a:h:b)\n",
    "    end\n",
    "\n",
    "    time=evenly_spaced(-60,60,4801)\n",
    "\n",
    "    dvv_ts, cc_ts, cdp_Ts, eps_ts, err_ts, allC_ts = SeisDvv.stretching(S1, S2, time, window, fmin, fmax, dvmin=-0.02, dvmax=0.02, ntrial=100);\n",
    "    dvt[i]=dvv_ts\n",
    "    cct[i]=cc_ts\n",
    "    \n",
    "end"
   ]
  },
  {
   "cell_type": "code",
   "execution_count": null,
   "id": "883e47e5",
   "metadata": {},
   "outputs": [],
   "source": [
    "plot(dvt)"
   ]
  },
  {
   "cell_type": "code",
   "execution_count": null,
   "id": "ddb46ac0",
   "metadata": {},
   "outputs": [],
   "source": [
    "using Dates\n",
    "\n",
    "r=map(unix2datetime,dailystk.t)\n",
    "\n",
    "plot(r[70:900],dvt[70:900],seriestype = :line)"
   ]
  },
  {
   "cell_type": "code",
   "execution_count": null,
   "id": "c0683f30",
   "metadata": {},
   "outputs": [],
   "source": [
    "r"
   ]
  },
  {
   "cell_type": "code",
   "execution_count": null,
   "id": "e1e25999",
   "metadata": {},
   "outputs": [],
   "source": [
    "using MarketTechnicals\n",
    "a=sma(dvt[70:900], 30)"
   ]
  },
  {
   "cell_type": "code",
   "execution_count": null,
   "id": "108582f6",
   "metadata": {},
   "outputs": [],
   "source": [
    "plot(a,seriestype = :line)"
   ]
  },
  {
   "cell_type": "markdown",
   "id": "284461d1",
   "metadata": {},
   "source": [
    "### terminal commands\n",
    "\n",
    "htop\n",
    "df\n",
    "ls\n",
    "cd\n",
    "ls -lh\n"
   ]
  },
  {
   "cell_type": "code",
   "execution_count": null,
   "id": "7fe7277d",
   "metadata": {},
   "outputs": [],
   "source": [
    "function evenly_spaced(a, b, n)\n",
    "    h = (b-a)/(n-1)\n",
    "    collect(a:h:b)\n",
    "end\n",
    "\n",
    "time=evenly_spaced(-60,60,4801)\n"
   ]
  },
  {
   "cell_type": "code",
   "execution_count": null,
   "id": "408022af",
   "metadata": {},
   "outputs": [],
   "source": [
    "j=2015\n",
    "i=63\n",
    "        if i<10\n",
    "            a=string(\"/data/wsd01/OOI-Data/HYSB1/\",string(j),\"/00\",string(i),\"/HYSB1.OO.\",string(j),\".00\",string(i),\".SHZ\")\n",
    "            b=string(\"/data/wsd01/OOI-Data/HYS14/\",string(j),\"/00\",string(i),\"/HYS14.OO.\",string(j),\".00\",string(i),\".SHZ\")\n",
    "        elseif i>=10 && i<100\n",
    "            a=string(\"/data/wsd01/OOI-Data/HYSB1/\",string(j),\"/0\",string(i),\"/HYSB1.OO.\",string(j),\".0\",string(i),\".SHZ\")\n",
    "            b=string(\"/data/wsd01/OOI-Data/HYS14/\",string(j),\"/0\",string(i),\"/HYS14.OO.\",string(j),\".0\",string(i),\".SHZ\")\n",
    "        elseif i>=100 && i<1000\n",
    "            a=string(\"/data/wsd01/OOI-Data/HYSB1/\",string(j),\"/\",string(i),\"/HYSB1.OO.\",string(j),\".\",string(i),\".SHZ\")\n",
    "            b=string(\"/data/wsd01/OOI-Data/HYS14/\",string(j),\"/\",string(i),\"/HYS14.OO.\",string(j),\".\",string(i),\".SHZ\")\n",
    "        end\n",
    "\n",
    "S1=read_data(a)\n",
    "S=read_data(b)\n",
    "S.fs\n",
    "fs/2"
   ]
  },
  {
   "cell_type": "code",
   "execution_count": null,
   "id": "c304f516",
   "metadata": {},
   "outputs": [],
   "source": [
    "merge!(S)\n",
    "    ungap!(S)\n",
    "\tdetrend!(S)         # remove mean & trend from channel\n",
    "\ttaper!(S)                      # taper channel ends\n",
    "\t"
   ]
  },
  {
   "cell_type": "code",
   "execution_count": null,
   "id": "b9c7cad8",
   "metadata": {},
   "outputs": [],
   "source": [
    "if fs ∉ S.fs\n",
    "\t\tfiltfilt!(S,fh=Float64(fs/2),rt=\"Lowpass\")    # lowpass filter before downsampling\n",
    "\tend\n",
    "\tresample!(S,fs=Float64(fs)) # downsample to lower fs\n",
    "\ttaper!(S)"
   ]
  },
  {
   "cell_type": "code",
   "execution_count": null,
   "id": "873cf0e8",
   "metadata": {},
   "outputs": [],
   "source": [
    "a=zeros(2009)\n",
    "for i=1:2009\n",
    "    a[i]=unix2datetime(dailystk.t[i])\n",
    "end"
   ]
  },
  {
   "cell_type": "code",
   "execution_count": null,
   "id": "cb87c94d",
   "metadata": {},
   "outputs": [],
   "source": [
    "filtfilt!(S,fh=Float64(18.0),rt=\"Lowpass\")"
   ]
  },
  {
   "cell_type": "code",
   "execution_count": null,
   "id": "41ba974d",
   "metadata": {},
   "outputs": [],
   "source": [
    "process_raw(S,40.)"
   ]
  },
  {
   "cell_type": "code",
   "execution_count": null,
   "id": "fc40499a",
   "metadata": {},
   "outputs": [],
   "source": [
    "resample!(C,Float64(fs)) # downsample to lower fs\n",
    "taper!(C)\n",
    "phase_shift!(C, ϕshift=ϕshift) # timing offset from sampling period\n",
    "return nothing"
   ]
  }
 ],
 "metadata": {
  "kernelspec": {
   "display_name": "julia (SHARED)",
   "language": "julia",
   "name": "julia-1.6"
  },
  "language_info": {
   "file_extension": ".jl",
   "mimetype": "application/julia",
   "name": "julia",
   "version": "1.6.7"
  }
 },
 "nbformat": 4,
 "nbformat_minor": 5
}
