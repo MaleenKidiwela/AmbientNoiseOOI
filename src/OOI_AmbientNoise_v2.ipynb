{
 "cells": [
  {
   "cell_type": "markdown",
   "id": "a9339ddc",
   "metadata": {},
   "source": [
    "## SeisNoise Implementation for OOI Cabled Array Data\n",
    "\n",
    "### Standard SeisNoise code adapted to save cross correlation files of multiple years between two specific stations\n"
   ]
  },
  {
   "cell_type": "code",
   "execution_count": 2,
   "id": "6e3726ed",
   "metadata": {},
   "outputs": [],
   "source": [
    "using SeisNoise, SeisIO, Plots, HDF5"
   ]
  },
  {
   "cell_type": "code",
   "execution_count": 2,
   "id": "c75b2a90",
   "metadata": {},
   "outputs": [
    {
     "data": {
      "text/plain": [
       "200.0"
      ]
     },
     "execution_count": 2,
     "metadata": {},
     "output_type": "execute_result"
    }
   ],
   "source": [
    "fs = 40.0 # sampling frequency in Hz\n",
    "freqmin,freqmax = 0.01,16.0 # min and max frequencies\n",
    "cc_step, cc_len = 450, 1800 # corrleation step and length in S\n",
    "maxlag = 200. # maximum lag time in correlation"
   ]
  },
  {
   "cell_type": "code",
   "execution_count": 3,
   "id": "ac52eb28",
   "metadata": {},
   "outputs": [
    {
     "name": "stdout",
     "output_type": "stream",
     "text": [
      "cannot process /data/wsd01/OOI-Data/HYS14/2015/066/HYS14.OO.2015.066.BHZ\n",
      "cannot process /data/wsd01/OOI-Data/HYS14/2015/161/HYS14.OO.2015.161.BHZ\n",
      "cannot process /data/wsd01/OOI-Data/HYS14/2015/162/HYS14.OO.2015.162.BHZ\n",
      "cannot process /data/wsd01/OOI-Data/HYS14/2015/165/HYS14.OO.2015.165.BHZ\n",
      "cannot process /data/wsd01/OOI-Data/HYS14/2015/166/HYS14.OO.2015.166.BHZ\n",
      "cannot process /data/wsd01/OOI-Data/HYS14/2015/366/HYS14.OO.2015.366.BHZ\n",
      "cannot process /data/wsd01/OOI-Data/HYS14/2016/198/HYS14.OO.2016.198.BHZ\n",
      "cannot process /data/wsd01/OOI-Data/HYS14/2016/199/HYS14.OO.2016.199.BHZ\n",
      "cannot process /data/wsd01/OOI-Data/HYS14/2016/285/HYS14.OO.2016.285.BHZ\n",
      "cannot process /data/wsd01/OOI-Data/HYS14/2017/008/HYS14.OO.2017.008.BHZ\n",
      "cannot process /data/wsd01/OOI-Data/HYS14/2017/165/HYS14.OO.2017.165.BHZ\n",
      "cannot process /data/wsd01/OOI-Data/HYS14/2017/193/HYS14.OO.2017.193.BHZ\n",
      "cannot process /data/wsd01/OOI-Data/HYS14/2017/281/HYS14.OO.2017.281.BHZ\n",
      "cannot process /data/wsd01/OOI-Data/HYS14/2017/318/HYS14.OO.2017.318.BHZ\n",
      "cannot process /data/wsd01/OOI-Data/HYS14/2017/366/HYS14.OO.2017.366.BHZ\n",
      "cannot process /data/wsd01/OOI-Data/HYS14/2018/070/HYS14.OO.2018.070.BHZ\n",
      "cannot process /data/wsd01/OOI-Data/HYS14/2018/071/HYS14.OO.2018.071.BHZ\n",
      "cannot process /data/wsd01/OOI-Data/HYS14/2018/223/HYS14.OO.2018.223.BHZ\n",
      "cannot process /data/wsd01/OOI-Data/HYS14/2018/224/HYS14.OO.2018.224.BHZ\n",
      "cannot process /data/wsd01/OOI-Data/HYS14/2018/235/HYS14.OO.2018.235.BHZ\n",
      "cannot process /data/wsd01/OOI-Data/HYS14/2018/236/HYS14.OO.2018.236.BHZ\n",
      "cannot process /data/wsd01/OOI-Data/HYS14/2018/237/HYS14.OO.2018.237.BHZ\n",
      "cannot process /data/wsd01/OOI-Data/HYS14/2018/238/HYS14.OO.2018.238.BHZ\n",
      "cannot process /data/wsd01/OOI-Data/HYS14/2018/239/HYS14.OO.2018.239.BHZ\n",
      "cannot process /data/wsd01/OOI-Data/HYS14/2018/241/HYS14.OO.2018.241.BHZ\n",
      "cannot process /data/wsd01/OOI-Data/HYS14/2018/257/HYS14.OO.2018.257.BHZ\n",
      "cannot process /data/wsd01/OOI-Data/HYS14/2018/272/HYS14.OO.2018.272.BHZ\n",
      "cannot process /data/wsd01/OOI-Data/HYS14/2018/273/HYS14.OO.2018.273.BHZ\n",
      "cannot process /data/wsd01/OOI-Data/HYS14/2018/274/HYS14.OO.2018.274.BHZ\n",
      "cannot process /data/wsd01/OOI-Data/HYS14/2018/352/HYS14.OO.2018.352.BHZ\n",
      "cannot process /data/wsd01/OOI-Data/HYS14/2018/353/HYS14.OO.2018.353.BHZ\n",
      "cannot process /data/wsd01/OOI-Data/HYS14/2018/354/HYS14.OO.2018.354.BHZ\n",
      "cannot process /data/wsd01/OOI-Data/HYS14/2018/366/HYS14.OO.2018.366.BHZ\n",
      "cannot process /data/wsd01/OOI-Data/HYS14/2019/147/HYS14.OO.2019.147.BHZ\n",
      "cannot process /data/wsd01/OOI-Data/HYS14/2019/163/HYS14.OO.2019.163.BHZ\n",
      "cannot process /data/wsd01/OOI-Data/HYS14/2019/164/HYS14.OO.2019.164.BHZ\n",
      "cannot process /data/wsd01/OOI-Data/HYS14/2019/165/HYS14.OO.2019.165.BHZ\n",
      "cannot process /data/wsd01/OOI-Data/HYS14/2019/166/HYS14.OO.2019.166.BHZ\n",
      "cannot process /data/wsd01/OOI-Data/HYS14/2019/167/HYS14.OO.2019.167.BHZ\n",
      "cannot process /data/wsd01/OOI-Data/HYS14/2019/168/HYS14.OO.2019.168.BHZ\n",
      "cannot process /data/wsd01/OOI-Data/HYS14/2019/169/HYS14.OO.2019.169.BHZ\n",
      "cannot process /data/wsd01/OOI-Data/HYS14/2019/170/HYS14.OO.2019.170.BHZ\n",
      "cannot process /data/wsd01/OOI-Data/HYS14/2019/171/HYS14.OO.2019.171.BHZ\n",
      "cannot process /data/wsd01/OOI-Data/HYS14/2019/172/HYS14.OO.2019.172.BHZ\n",
      "cannot process /data/wsd01/OOI-Data/HYS14/2019/173/HYS14.OO.2019.173.BHZ\n",
      "cannot process /data/wsd01/OOI-Data/HYS14/2019/174/HYS14.OO.2019.174.BHZ\n",
      "cannot process /data/wsd01/OOI-Data/HYS14/2019/175/HYS14.OO.2019.175.BHZ\n",
      "cannot process /data/wsd01/OOI-Data/HYS14/2019/176/HYS14.OO.2019.176.BHZ\n",
      "cannot process /data/wsd01/OOI-Data/HYS14/2019/177/HYS14.OO.2019.177.BHZ\n",
      "cannot process /data/wsd01/OOI-Data/HYS14/2019/184/HYS14.OO.2019.184.BHZ\n",
      "cannot process /data/wsd01/OOI-Data/HYS14/2019/220/HYS14.OO.2019.220.BHZ\n",
      "cannot process /data/wsd01/OOI-Data/HYS14/2019/221/HYS14.OO.2019.221.BHZ\n",
      "cannot process /data/wsd01/OOI-Data/HYS14/2019/233/HYS14.OO.2019.233.BHZ\n",
      "cannot process /data/wsd01/OOI-Data/HYS14/2019/234/HYS14.OO.2019.234.BHZ\n",
      "cannot process /data/wsd01/OOI-Data/HYS14/2019/235/HYS14.OO.2019.235.BHZ\n",
      "cannot process /data/wsd01/OOI-Data/HYS14/2019/236/HYS14.OO.2019.236.BHZ\n",
      "cannot process /data/wsd01/OOI-Data/HYS14/2019/237/HYS14.OO.2019.237.BHZ\n",
      "cannot process /data/wsd01/OOI-Data/HYS14/2019/238/HYS14.OO.2019.238.BHZ\n",
      "cannot process /data/wsd01/OOI-Data/HYS14/2019/239/HYS14.OO.2019.239.BHZ\n",
      "cannot process /data/wsd01/OOI-Data/HYS14/2019/240/HYS14.OO.2019.240.BHZ\n",
      "cannot process /data/wsd01/OOI-Data/HYS14/2019/241/HYS14.OO.2019.241.BHZ\n",
      "cannot process /data/wsd01/OOI-Data/HYS14/2019/242/HYS14.OO.2019.242.BHZ\n",
      "cannot process /data/wsd01/OOI-Data/HYS14/2019/243/HYS14.OO.2019.243.BHZ\n",
      "cannot process /data/wsd01/OOI-Data/HYS14/2019/244/HYS14.OO.2019.244.BHZ\n",
      "cannot process /data/wsd01/OOI-Data/HYS14/2019/245/HYS14.OO.2019.245.BHZ\n",
      "cannot process /data/wsd01/OOI-Data/HYS14/2019/246/HYS14.OO.2019.246.BHZ\n",
      "cannot process /data/wsd01/OOI-Data/HYS14/2019/251/HYS14.OO.2019.251.BHZ\n",
      "cannot process /data/wsd01/OOI-Data/HYS14/2019/257/HYS14.OO.2019.257.BHZ\n",
      "cannot process /data/wsd01/OOI-Data/HYS14/2019/258/HYS14.OO.2019.258.BHZ\n",
      "cannot process /data/wsd01/OOI-Data/HYS14/2019/259/HYS14.OO.2019.259.BHZ\n",
      "cannot process /data/wsd01/OOI-Data/HYS14/2019/260/HYS14.OO.2019.260.BHZ\n",
      "cannot process /data/wsd01/OOI-Data/HYS14/2019/268/HYS14.OO.2019.268.BHZ\n",
      "cannot process /data/wsd01/OOI-Data/HYS14/2019/270/HYS14.OO.2019.270.BHZ\n",
      "cannot process /data/wsd01/OOI-Data/HYS14/2019/271/HYS14.OO.2019.271.BHZ\n",
      "cannot process /data/wsd01/OOI-Data/HYS14/2019/272/HYS14.OO.2019.272.BHZ\n",
      "cannot process /data/wsd01/OOI-Data/HYS14/2019/278/HYS14.OO.2019.278.BHZ\n",
      "cannot process /data/wsd01/OOI-Data/HYS14/2019/283/HYS14.OO.2019.283.BHZ\n",
      "cannot process /data/wsd01/OOI-Data/HYS14/2019/366/HYS14.OO.2019.366.BHZ\n",
      "cannot process /data/wsd01/OOI-Data/HYS14/2020/003/HYS14.OO.2020.003.BHZ\n",
      "cannot process /data/wsd01/OOI-Data/HYS14/2020/131/HYS14.OO.2020.131.BHZ\n",
      "cannot process /data/wsd01/OOI-Data/HYS14/2020/132/HYS14.OO.2020.132.BHZ\n",
      "cannot process /data/wsd01/OOI-Data/HYS14/2020/133/HYS14.OO.2020.133.BHZ\n",
      "cannot process /data/wsd01/OOI-Data/HYS14/2020/134/HYS14.OO.2020.134.BHZ\n",
      "cannot process /data/wsd01/OOI-Data/HYS14/2020/135/HYS14.OO.2020.135.BHZ\n",
      "cannot process /data/wsd01/OOI-Data/HYS14/2020/136/HYS14.OO.2020.136.BHZ\n",
      "cannot process /data/wsd01/OOI-Data/HYS14/2020/137/HYS14.OO.2020.137.BHZ\n",
      "cannot process /data/wsd01/OOI-Data/HYS14/2020/138/HYS14.OO.2020.138.BHZ\n",
      "cannot process /data/wsd01/OOI-Data/HYS14/2020/139/HYS14.OO.2020.139.BHZ\n",
      "cannot process /data/wsd01/OOI-Data/HYS14/2020/140/HYS14.OO.2020.140.BHZ\n",
      "cannot process /data/wsd01/OOI-Data/HYS14/2020/141/HYS14.OO.2020.141.BHZ\n",
      "cannot process /data/wsd01/OOI-Data/HYS14/2020/142/HYS14.OO.2020.142.BHZ\n",
      "cannot process /data/wsd01/OOI-Data/HYS14/2020/143/HYS14.OO.2020.143.BHZ\n",
      "cannot process /data/wsd01/OOI-Data/HYS14/2020/144/HYS14.OO.2020.144.BHZ\n",
      "cannot process /data/wsd01/OOI-Data/HYS14/2020/145/HYS14.OO.2020.145.BHZ\n",
      "cannot process /data/wsd01/OOI-Data/HYS14/2020/146/HYS14.OO.2020.146.BHZ\n",
      "cannot process /data/wsd01/OOI-Data/HYS14/2020/147/HYS14.OO.2020.147.BHZ\n",
      "cannot process /data/wsd01/OOI-Data/HYS14/2020/148/HYS14.OO.2020.148.BHZ\n",
      "cannot process /data/wsd01/OOI-Data/HYS14/2020/149/HYS14.OO.2020.149.BHZ\n",
      "cannot process /data/wsd01/OOI-Data/HYS14/2020/150/HYS14.OO.2020.150.BHZ\n",
      "cannot process /data/wsd01/OOI-Data/HYS14/2020/151/HYS14.OO.2020.151.BHZ\n",
      "cannot process /data/wsd01/OOI-Data/HYS14/2020/152/HYS14.OO.2020.152.BHZ\n",
      "cannot process /data/wsd01/OOI-Data/HYS14/2020/166/HYS14.OO.2020.166.BHZ\n",
      "cannot process /data/wsd01/OOI-Data/HYS14/2020/193/HYS14.OO.2020.193.BHZ\n",
      "cannot process /data/wsd01/OOI-Data/HYS14/2020/232/HYS14.OO.2020.232.BHZ\n",
      "cannot process /data/wsd01/OOI-Data/HYS14/2020/233/HYS14.OO.2020.233.BHZ\n",
      "cannot process /data/wsd01/OOI-Data/HYS14/2020/234/HYS14.OO.2020.234.BHZ\n",
      "cannot process /data/wsd01/OOI-Data/HYS14/2020/235/HYS14.OO.2020.235.BHZ\n",
      "cannot process /data/wsd01/OOI-Data/HYS14/2020/236/HYS14.OO.2020.236.BHZ\n",
      "cannot process /data/wsd01/OOI-Data/HYS14/2020/237/HYS14.OO.2020.237.BHZ\n",
      "cannot process /data/wsd01/OOI-Data/HYS14/2020/238/HYS14.OO.2020.238.BHZ\n",
      "cannot process /data/wsd01/OOI-Data/HYS14/2020/239/HYS14.OO.2020.239.BHZ\n",
      "cannot process /data/wsd01/OOI-Data/HYS14/2020/240/HYS14.OO.2020.240.BHZ\n",
      "cannot process /data/wsd01/OOI-Data/HYS14/2020/241/HYS14.OO.2020.241.BHZ\n",
      "cannot process /data/wsd01/OOI-Data/HYS14/2020/242/HYS14.OO.2020.242.BHZ\n",
      "cannot process /data/wsd01/OOI-Data/HYS14/2020/243/HYS14.OO.2020.243.BHZ\n",
      "cannot process /data/wsd01/OOI-Data/HYS14/2020/244/HYS14.OO.2020.244.BHZ\n",
      "cannot process /data/wsd01/OOI-Data/HYS14/2020/245/HYS14.OO.2020.245.BHZ\n",
      "cannot process /data/wsd01/OOI-Data/HYS14/2020/246/HYS14.OO.2020.246.BHZ\n",
      "cannot process /data/wsd01/OOI-Data/HYS14/2020/247/HYS14.OO.2020.247.BHZ\n",
      "cannot process /data/wsd01/OOI-Data/HYS14/2020/248/HYS14.OO.2020.248.BHZ\n",
      "cannot process /data/wsd01/OOI-Data/HYS14/2020/249/HYS14.OO.2020.249.BHZ\n",
      "cannot process /data/wsd01/OOI-Data/HYS14/2020/250/HYS14.OO.2020.250.BHZ\n",
      "cannot process /data/wsd01/OOI-Data/HYS14/2020/251/HYS14.OO.2020.251.BHZ\n",
      "cannot process /data/wsd01/OOI-Data/HYS14/2020/252/HYS14.OO.2020.252.BHZ\n",
      "cannot process /data/wsd01/OOI-Data/HYS14/2020/253/HYS14.OO.2020.253.BHZ\n",
      "cannot process /data/wsd01/OOI-Data/HYS14/2020/254/HYS14.OO.2020.254.BHZ\n",
      "cannot process /data/wsd01/OOI-Data/HYS14/2020/255/HYS14.OO.2020.255.BHZ\n",
      "cannot process /data/wsd01/OOI-Data/HYS14/2020/256/HYS14.OO.2020.256.BHZ\n",
      "cannot process /data/wsd01/OOI-Data/HYS14/2020/257/HYS14.OO.2020.257.BHZ\n",
      "cannot process /data/wsd01/OOI-Data/HYS14/2020/258/HYS14.OO.2020.258.BHZ\n",
      "cannot process /data/wsd01/OOI-Data/HYS14/2020/259/HYS14.OO.2020.259.BHZ\n",
      "cannot process /data/wsd01/OOI-Data/HYS14/2020/260/HYS14.OO.2020.260.BHZ\n",
      "cannot process /data/wsd01/OOI-Data/HYS14/2020/261/HYS14.OO.2020.261.BHZ\n",
      "cannot process /data/wsd01/OOI-Data/HYS14/2020/262/HYS14.OO.2020.262.BHZ\n",
      "cannot process /data/wsd01/OOI-Data/HYS14/2020/263/HYS14.OO.2020.263.BHZ\n",
      "cannot process /data/wsd01/OOI-Data/HYS14/2020/264/HYS14.OO.2020.264.BHZ\n",
      "cannot process /data/wsd01/OOI-Data/HYS14/2020/265/HYS14.OO.2020.265.BHZ\n",
      "cannot process /data/wsd01/OOI-Data/HYS14/2020/266/HYS14.OO.2020.266.BHZ\n",
      "cannot process /data/wsd01/OOI-Data/HYS14/2020/267/HYS14.OO.2020.267.BHZ\n",
      "cannot process /data/wsd01/OOI-Data/HYS14/2020/268/HYS14.OO.2020.268.BHZ\n",
      "cannot process /data/wsd01/OOI-Data/HYS14/2020/269/HYS14.OO.2020.269.BHZ\n",
      "cannot process /data/wsd01/OOI-Data/HYS14/2020/270/HYS14.OO.2020.270.BHZ\n",
      "cannot process /data/wsd01/OOI-Data/HYS14/2020/271/HYS14.OO.2020.271.BHZ\n",
      "cannot process /data/wsd01/OOI-Data/HYS14/2020/272/HYS14.OO.2020.272.BHZ\n",
      "cannot process /data/wsd01/OOI-Data/HYS14/2020/273/HYS14.OO.2020.273.BHZ\n",
      "cannot process /data/wsd01/OOI-Data/HYS14/2020/274/HYS14.OO.2020.274.BHZ\n",
      "cannot process /data/wsd01/OOI-Data/HYS14/2020/275/HYS14.OO.2020.275.BHZ\n",
      "cannot process /data/wsd01/OOI-Data/HYS14/2020/276/HYS14.OO.2020.276.BHZ\n",
      "cannot process /data/wsd01/OOI-Data/HYS14/2020/277/HYS14.OO.2020.277.BHZ\n",
      "cannot process /data/wsd01/OOI-Data/HYS14/2020/278/HYS14.OO.2020.278.BHZ\n",
      "cannot process /data/wsd01/OOI-Data/HYS14/2020/279/HYS14.OO.2020.279.BHZ\n",
      "cannot process /data/wsd01/OOI-Data/HYS14/2020/280/HYS14.OO.2020.280.BHZ\n",
      "cannot process /data/wsd01/OOI-Data/HYS14/2020/281/HYS14.OO.2020.281.BHZ\n",
      "cannot process /data/wsd01/OOI-Data/HYS14/2020/282/HYS14.OO.2020.282.BHZ\n",
      "cannot process /data/wsd01/OOI-Data/HYS14/2020/283/HYS14.OO.2020.283.BHZ\n",
      "cannot process /data/wsd01/OOI-Data/HYS14/2020/284/HYS14.OO.2020.284.BHZ\n",
      "cannot process /data/wsd01/OOI-Data/HYS14/2020/285/HYS14.OO.2020.285.BHZ\n",
      "cannot process /data/wsd01/OOI-Data/HYS14/2020/286/HYS14.OO.2020.286.BHZ\n",
      "cannot process /data/wsd01/OOI-Data/HYS14/2020/287/HYS14.OO.2020.287.BHZ\n",
      "cannot process /data/wsd01/OOI-Data/HYS14/2020/288/HYS14.OO.2020.288.BHZ\n",
      "cannot process /data/wsd01/OOI-Data/HYS14/2020/289/HYS14.OO.2020.289.BHZ\n",
      "cannot process /data/wsd01/OOI-Data/HYS14/2020/290/HYS14.OO.2020.290.BHZ\n",
      "cannot process /data/wsd01/OOI-Data/HYS14/2020/291/HYS14.OO.2020.291.BHZ\n",
      "cannot process /data/wsd01/OOI-Data/HYS14/2020/292/HYS14.OO.2020.292.BHZ\n",
      "cannot process /data/wsd01/OOI-Data/HYS14/2020/293/HYS14.OO.2020.293.BHZ\n",
      "cannot process /data/wsd01/OOI-Data/HYS14/2020/294/HYS14.OO.2020.294.BHZ\n",
      "cannot process /data/wsd01/OOI-Data/HYS14/2020/295/HYS14.OO.2020.295.BHZ\n",
      "cannot process /data/wsd01/OOI-Data/HYS14/2020/296/HYS14.OO.2020.296.BHZ\n",
      "cannot process /data/wsd01/OOI-Data/HYS14/2020/297/HYS14.OO.2020.297.BHZ\n",
      "cannot process /data/wsd01/OOI-Data/HYS14/2020/298/HYS14.OO.2020.298.BHZ\n",
      "cannot process /data/wsd01/OOI-Data/HYS14/2020/299/HYS14.OO.2020.299.BHZ\n",
      "cannot process /data/wsd01/OOI-Data/HYS14/2020/300/HYS14.OO.2020.300.BHZ\n",
      "cannot process /data/wsd01/OOI-Data/HYS14/2020/301/HYS14.OO.2020.301.BHZ\n",
      "cannot process /data/wsd01/OOI-Data/HYS14/2020/302/HYS14.OO.2020.302.BHZ\n",
      "cannot process /data/wsd01/OOI-Data/HYS14/2020/303/HYS14.OO.2020.303.BHZ\n",
      "cannot process /data/wsd01/OOI-Data/HYS14/2020/304/HYS14.OO.2020.304.BHZ\n",
      "cannot process /data/wsd01/OOI-Data/HYS14/2020/305/HYS14.OO.2020.305.BHZ\n",
      "cannot process /data/wsd01/OOI-Data/HYS14/2020/306/HYS14.OO.2020.306.BHZ\n",
      "cannot process /data/wsd01/OOI-Data/HYS14/2020/307/HYS14.OO.2020.307.BHZ\n",
      "cannot process /data/wsd01/OOI-Data/HYS14/2020/308/HYS14.OO.2020.308.BHZ\n",
      "cannot process /data/wsd01/OOI-Data/HYS14/2020/309/HYS14.OO.2020.309.BHZ\n",
      "cannot process /data/wsd01/OOI-Data/HYS14/2020/310/HYS14.OO.2020.310.BHZ\n",
      "cannot process /data/wsd01/OOI-Data/HYS14/2020/311/HYS14.OO.2020.311.BHZ\n",
      "cannot process /data/wsd01/OOI-Data/HYS14/2020/312/HYS14.OO.2020.312.BHZ\n",
      "cannot process /data/wsd01/OOI-Data/HYS14/2020/313/HYS14.OO.2020.313.BHZ\n",
      "cannot process /data/wsd01/OOI-Data/HYS14/2020/314/HYS14.OO.2020.314.BHZ\n",
      "cannot process /data/wsd01/OOI-Data/HYS14/2020/315/HYS14.OO.2020.315.BHZ\n",
      "cannot process /data/wsd01/OOI-Data/HYS14/2020/316/HYS14.OO.2020.316.BHZ\n",
      "cannot process /data/wsd01/OOI-Data/HYS14/2020/317/HYS14.OO.2020.317.BHZ\n",
      "cannot process /data/wsd01/OOI-Data/HYS14/2020/318/HYS14.OO.2020.318.BHZ\n",
      "cannot process /data/wsd01/OOI-Data/HYS14/2020/319/HYS14.OO.2020.319.BHZ\n",
      "cannot process /data/wsd01/OOI-Data/HYS14/2020/320/HYS14.OO.2020.320.BHZ\n",
      "cannot process /data/wsd01/OOI-Data/HYS14/2020/321/HYS14.OO.2020.321.BHZ\n",
      "cannot process /data/wsd01/OOI-Data/HYS14/2020/322/HYS14.OO.2020.322.BHZ\n",
      "cannot process /data/wsd01/OOI-Data/HYS14/2020/323/HYS14.OO.2020.323.BHZ\n",
      "cannot process /data/wsd01/OOI-Data/HYS14/2020/324/HYS14.OO.2020.324.BHZ\n",
      "cannot process /data/wsd01/OOI-Data/HYS14/2020/325/HYS14.OO.2020.325.BHZ\n",
      "cannot process /data/wsd01/OOI-Data/HYS14/2020/326/HYS14.OO.2020.326.BHZ\n",
      "cannot process /data/wsd01/OOI-Data/HYS14/2020/327/HYS14.OO.2020.327.BHZ\n",
      "cannot process /data/wsd01/OOI-Data/HYS14/2020/328/HYS14.OO.2020.328.BHZ\n",
      "cannot process /data/wsd01/OOI-Data/HYS14/2020/329/HYS14.OO.2020.329.BHZ\n",
      "cannot process /data/wsd01/OOI-Data/HYS14/2020/330/HYS14.OO.2020.330.BHZ\n",
      "cannot process /data/wsd01/OOI-Data/HYS14/2020/331/HYS14.OO.2020.331.BHZ\n",
      "cannot process /data/wsd01/OOI-Data/HYS14/2020/332/HYS14.OO.2020.332.BHZ\n",
      "cannot process /data/wsd01/OOI-Data/HYS14/2020/333/HYS14.OO.2020.333.BHZ\n",
      "cannot process /data/wsd01/OOI-Data/HYS14/2020/334/HYS14.OO.2020.334.BHZ\n",
      "cannot process /data/wsd01/OOI-Data/HYS14/2020/335/HYS14.OO.2020.335.BHZ\n",
      "cannot process /data/wsd01/OOI-Data/HYS14/2020/336/HYS14.OO.2020.336.BHZ\n",
      "cannot process /data/wsd01/OOI-Data/HYS14/2020/337/HYS14.OO.2020.337.BHZ\n",
      "cannot process /data/wsd01/OOI-Data/HYS14/2020/338/HYS14.OO.2020.338.BHZ\n",
      "cannot process /data/wsd01/OOI-Data/HYS14/2020/339/HYS14.OO.2020.339.BHZ\n",
      "cannot process /data/wsd01/OOI-Data/HYS14/2020/340/HYS14.OO.2020.340.BHZ\n",
      "cannot process /data/wsd01/OOI-Data/HYS14/2020/341/HYS14.OO.2020.341.BHZ\n",
      "cannot process /data/wsd01/OOI-Data/HYS14/2020/342/HYS14.OO.2020.342.BHZ\n",
      "cannot process /data/wsd01/OOI-Data/HYS14/2020/343/HYS14.OO.2020.343.BHZ\n",
      "cannot process /data/wsd01/OOI-Data/HYS14/2020/344/HYS14.OO.2020.344.BHZ\n",
      "cannot process /data/wsd01/OOI-Data/HYS14/2020/345/HYS14.OO.2020.345.BHZ\n",
      "cannot process /data/wsd01/OOI-Data/HYS14/2020/346/HYS14.OO.2020.346.BHZ\n",
      "cannot process /data/wsd01/OOI-Data/HYS14/2020/347/HYS14.OO.2020.347.BHZ\n",
      "cannot process /data/wsd01/OOI-Data/HYS14/2020/348/HYS14.OO.2020.348.BHZ\n",
      "cannot process /data/wsd01/OOI-Data/HYS14/2020/349/HYS14.OO.2020.349.BHZ\n",
      "cannot process /data/wsd01/OOI-Data/HYS14/2020/350/HYS14.OO.2020.350.BHZ\n",
      "cannot process /data/wsd01/OOI-Data/HYS14/2020/351/HYS14.OO.2020.351.BHZ\n",
      "cannot process /data/wsd01/OOI-Data/HYS14/2020/352/HYS14.OO.2020.352.BHZ\n",
      "cannot process /data/wsd01/OOI-Data/HYS14/2020/353/HYS14.OO.2020.353.BHZ\n",
      "cannot process /data/wsd01/OOI-Data/HYS14/2020/354/HYS14.OO.2020.354.BHZ\n",
      "cannot process /data/wsd01/OOI-Data/HYS14/2020/355/HYS14.OO.2020.355.BHZ\n",
      "cannot process /data/wsd01/OOI-Data/HYS14/2020/356/HYS14.OO.2020.356.BHZ\n",
      "cannot process /data/wsd01/OOI-Data/HYS14/2020/357/HYS14.OO.2020.357.BHZ\n",
      "cannot process /data/wsd01/OOI-Data/HYS14/2020/358/HYS14.OO.2020.358.BHZ\n",
      "cannot process /data/wsd01/OOI-Data/HYS14/2020/359/HYS14.OO.2020.359.BHZ\n",
      "cannot process /data/wsd01/OOI-Data/HYS14/2020/360/HYS14.OO.2020.360.BHZ\n",
      "cannot process /data/wsd01/OOI-Data/HYS14/2020/361/HYS14.OO.2020.361.BHZ\n",
      "cannot process /data/wsd01/OOI-Data/HYS14/2020/362/HYS14.OO.2020.362.BHZ\n",
      "cannot process /data/wsd01/OOI-Data/HYS14/2020/363/HYS14.OO.2020.363.BHZ\n",
      "cannot process /data/wsd01/OOI-Data/HYS14/2020/364/HYS14.OO.2020.364.BHZ\n",
      "cannot process /data/wsd01/OOI-Data/HYS14/2020/365/HYS14.OO.2020.365.BHZ\n",
      "cannot process /data/wsd01/OOI-Data/HYS14/2020/366/HYS14.OO.2020.366.BHZ\n"
     ]
    }
   ],
   "source": [
    "for j in 2015:2020      \n",
    "\n",
    "    for i in 1:366 \n",
    "\n",
    "        if i<10\n",
    "            a=string(\"/data/wsd01/OOI-Data/HYS14/\",string(j),\"/00\",string(i),\"/HYS14.OO.\",string(j),\".00\",string(i),\".BHZ\")\n",
    "            b=string(\"/data/wsd01/OOI-Data/HYSB1/\",string(j),\"/00\",string(i),\"/HYSB1.OO.\",string(j),\".00\",string(i),\".BHZ\")\n",
    "        elseif i>=10 && i<100\n",
    "            a=string(\"/data/wsd01/OOI-Data/HYS14/\",string(j),\"/0\",string(i),\"/HYS14.OO.\",string(j),\".0\",string(i),\".BHZ\")\n",
    "            b=string(\"/data/wsd01/OOI-Data/HYSB1/\",string(j),\"/0\",string(i),\"/HYSB1.OO.\",string(j),\".0\",string(i),\".BHZ\")\n",
    "        elseif i>=100 && i<1000\n",
    "            a=string(\"/data/wsd01/OOI-Data/HYS14/\",string(j),\"/\",string(i),\"/HYS14.OO.\",string(j),\".\",string(i),\".BHZ\")\n",
    "            b=string(\"/data/wsd01/OOI-Data/HYSB1/\",string(j),\"/\",string(i),\"/HYSB1.OO.\",string(j),\".\",string(i),\".BHZ\")\n",
    "        end\n",
    "\n",
    "        try \n",
    "            S1=read_data(a) \n",
    "            S2=read_data(b)\n",
    "            S1.fs=[40.0]\n",
    "            S2.fs=[40.0]\n",
    "        \n",
    "            process_raw!(S1,fs)\n",
    "            process_raw!(S2,fs)\n",
    "        \n",
    "\n",
    "            R = RawData.([S1,S2],cc_len,cc_step)\n",
    "            detrend!.(R)\n",
    "            taper!.(R)\n",
    "            bandpass!.(R,freqmin,freqmax,zerophase=true)\n",
    "            FFT = rfft.(R)\n",
    "            whiten!.(FFT,freqmin,freqmax)\n",
    "            C = correlate(FFT[1],FFT[2],maxlag)\n",
    "            save_corr(C,\"/data/wsd01/corrdata/200lag/\")\n",
    " \n",
    "        catch; \n",
    "            println(\"cannot process \"*a) \n",
    "               \n",
    "        end\n",
    "    end\n",
    "end\n"
   ]
  },
  {
   "cell_type": "code",
   "execution_count": null,
   "id": "bd581495",
   "metadata": {},
   "outputs": [],
   "source": [
    "readdir(\"/data/wsd01/OOI-Data/HYS14/2015/066/\")"
   ]
  },
  {
   "cell_type": "markdown",
   "id": "d3ceee24",
   "metadata": {},
   "source": [
    "### standard seisnoise code for plotting cross correlation function for one day between two stations"
   ]
  },
  {
   "cell_type": "code",
   "execution_count": null,
   "id": "3685bc2c",
   "metadata": {},
   "outputs": [],
   "source": [
    "using SeisNoise, SeisIO, Plots\n",
    "fs = 36. # sampling frequency in Hz\n",
    "freqmin,freqmax = 0.1,9.0 # min and max frequencies\n",
    "cc_step, cc_len = 450, 1800 # corrleation step and length in S\n",
    "maxlag = 60. # maximum lag time in correlation\n",
    "\n",
    "j=2015\n",
    "i=63\n",
    "        if i<10\n",
    "            a=string(\"/data/wsd01/OOI-Data/HYS14/\",string(j),\"/00\",string(i),\"/HYS14.OO.\",string(j),\".00\",string(i),\".SHE\")\n",
    "            b=string(\"/data/wsd01/OOI-Data/HYS14/\",string(j),\"/00\",string(i),\"/HYS14.OO.\",string(j),\".00\",string(i),\".SHN\")\n",
    "        elseif i>=10 && i<100\n",
    "            a=string(\"/data/wsd01/OOI-Data/HYS14/\",string(j),\"/0\",string(i),\"/HYS14.OO.\",string(j),\".0\",string(i),\".SHE\")\n",
    "            b=string(\"/data/wsd01/OOI-Data/HYS14/\",string(j),\"/0\",string(i),\"/HYS14.OO.\",string(j),\".0\",string(i),\".SHN\")\n",
    "        elseif i>=100 && i<1000\n",
    "            a=string(\"/data/wsd01/OOI-Data/HYS14/\",string(j),\"/\",string(i),\"/HYS14.OO.\",string(j),\".\",string(i),\".SHE\")\n",
    "            b=string(\"/data/wsd01/OOI-Data/HYS14/\",string(j),\"/\",string(i),\"/HYS14.OO.\",string(j),\".\",string(i),\".SHN\")\n",
    "        end\n",
    "\n",
    "        S1=read_data(a)\n",
    "        S2=read_data(b)\n",
    "\n",
    "        process_raw!(S1,fs)\n",
    "        process_raw!(S2,fs)\n",
    "\n",
    "        R = RawData.([S1,S2],cc_len,cc_step)\n",
    "        detrend!.(R)\n",
    "        taper!.(R)\n",
    "        bandpass!.(R,freqmin,freqmax,zerophase=true)\n",
    "        FFT = rfft.(R)\n",
    "        whiten!.(FFT,freqmin,freqmax)\n",
    "        C = correlate(FFT[1],FFT[2],maxlag)\n",
    "        clean_up!(C,freqmin,freqmax)\n",
    "        abs_max!(C)\n",
    "        plot(C)\n"
   ]
  },
  {
   "cell_type": "code",
   "execution_count": null,
   "id": "65d6451e",
   "metadata": {},
   "outputs": [],
   "source": [
    "using SeisNoise, SeisIO, Plots\n",
    "fs = 40. # sampling frequency in Hz\n",
    "freqmin,freqmax = 0.1,20 # min and max frequencies\n",
    "cc_step, cc_len = 450, 1800 # corrleation step and length in S\n",
    "maxlag = 60. # maximum lag time in correlation\n",
    "\n",
    "j=2015\n",
    "i=69\n",
    "        if i<10\n",
    "            a=string(\"/data/wsd01/OOI-Data/HYSB1/\",string(j),\"/00\",string(i),\"/HYSB1.OO.\",string(j),\".00\",string(i),\".SHZ\")\n",
    "            b=string(\"/data/wsd01/OOI-Data/HYS14/\",string(j),\"/00\",string(i),\"/HYS14.OO.\",string(j),\".00\",string(i),\".SHZ\")\n",
    "        elseif i>=10 && i<100\n",
    "            a=string(\"/data/wsd01/OOI-Data/HYSB1/\",string(j),\"/0\",string(i),\"/HYSB1.OO.\",string(j),\".0\",string(i),\".SHZ\")\n",
    "            b=string(\"/data/wsd01/OOI-Data/HYS14/\",string(j),\"/0\",string(i),\"/HYS14.OO.\",string(j),\".0\",string(i),\".SHZ\")\n",
    "        elseif i>=100 && i<1000\n",
    "            a=string(\"/data/wsd01/OOI-Data/HYSB1/\",string(j),\"/\",string(i),\"/HYSB1.OO.\",string(j),\".\",string(i),\".SHZ\")\n",
    "            b=string(\"/data/wsd01/OOI-Data/HYS14/\",string(j),\"/\",string(i),\"/HYS14.OO.\",string(j),\".\",string(i),\".SHZ\")\n",
    "        end\n",
    "\n",
    "S1=read_data(a)\n",
    "S2=read_data(b)\n",
    "S1.fs=[40.0]\n",
    "S2.fs=[40.0]\n",
    "S2"
   ]
  },
  {
   "cell_type": "code",
   "execution_count": null,
   "id": "34b7ad92",
   "metadata": {},
   "outputs": [],
   "source": [
    "S1.fs"
   ]
  },
  {
   "cell_type": "code",
   "execution_count": null,
   "id": "74388e4e",
   "metadata": {},
   "outputs": [],
   "source": [
    "S2.fs"
   ]
  },
  {
   "cell_type": "code",
   "execution_count": null,
   "id": "bfc2c0ba",
   "metadata": {},
   "outputs": [],
   "source": [
    "process_raw!(S1,fs)\n",
    "S1"
   ]
  },
  {
   "cell_type": "code",
   "execution_count": null,
   "id": "2712bd62",
   "metadata": {},
   "outputs": [],
   "source": [
    "process_raw!(S2,fs)\n",
    "S2[1].fs"
   ]
  },
  {
   "cell_type": "code",
   "execution_count": null,
   "id": "5fc23d2f",
   "metadata": {},
   "outputs": [],
   "source": [
    "=[40.0]\n",
    "S2"
   ]
  },
  {
   "cell_type": "code",
   "execution_count": null,
   "id": "6cb715f1",
   "metadata": {},
   "outputs": [],
   "source": [
    "S2.fs"
   ]
  },
  {
   "cell_type": "markdown",
   "id": "470d0719",
   "metadata": {},
   "source": [
    "### Save correlation matrix for one day -> debugging portal"
   ]
  },
  {
   "cell_type": "code",
   "execution_count": null,
   "id": "8d310287",
   "metadata": {},
   "outputs": [],
   "source": [
    "j=2017\n",
    "i=287        \n",
    "        if i<10\n",
    "            a=string(\"/data/wsd01/OOI-Data/HYS12/\",string(j),\"/00\",string(i),\"/HYS12.OO.\",string(j),\".00\",string(i),\".SHE\")\n",
    "            b=string(\"/data/wsd01/OOI-Data/HYS12/\",string(j),\"/00\",string(i),\"/HYS12.OO.\",string(j),\".00\",string(i),\".SHN\")\n",
    "        elseif i>=10 && i<100\n",
    "            a=string(\"/data/wsd01/OOI-Data/HYS12/\",string(j),\"/0\",string(i),\"/HYS12.OO.\",string(j),\".0\",string(i),\".SHE\")\n",
    "            b=string(\"/data/wsd01/OOI-Data/HYS12/\",string(j),\"/0\",string(i),\"/HYS12.OO.\",string(j),\".0\",string(i),\".SHN\")\n",
    "        elseif i>=100 && i<1000\n",
    "            a=string(\"/data/wsd01/OOI-Data/HYS12/\",string(j),\"/\",string(i),\"/HYS12.OO.\",string(j),\".\",string(i),\".SHE\")\n",
    "            b=string(\"/data/wsd01/OOI-Data/HYS12/\",string(j),\"/\",string(i),\"/HYS12.OO.\",string(j),\".\",string(i),\".SHN\")\n",
    "        end\n",
    "\n",
    "        y=0\n",
    "        try S1=read_data(a) catch; y=1 end\n",
    "        try S2=read_data(b) catch; y=1 end\n",
    "        try process_raw!(S1,fs) catch; y=1 end\n",
    "        try process_raw!(S2,fs) catch; y=1 end\n",
    "        \n",
    "        if y==0\n",
    "            S1=read_data(a)\n",
    "            S2=read_data(b)\n",
    "            process_raw!(S1,fs)\n",
    "            process_raw!(S2,fs)\n",
    "\n",
    "            R = RawData.([S1,S2],cc_len,cc_step)\n",
    "            detrend!.(R)\n",
    "            taper!.(R)\n",
    "            bandpass!.(R,freqmin,freqmax,zerophase=true)\n",
    "            FFT = rfft.(R)\n",
    "            whiten!.(FFT,freqmin,freqmax)\n",
    "            C = correlate(FFT[1],FFT[2],maxlag)\n",
    "            #save_corr(C,\"/data/wsd01/corrdata/\")\n",
    "        end"
   ]
  },
  {
   "cell_type": "markdown",
   "id": "e5783808",
   "metadata": {},
   "source": [
    "### checks the available date entries withing the JLD file"
   ]
  },
  {
   "cell_type": "code",
   "execution_count": null,
   "id": "16ff614a",
   "metadata": {},
   "outputs": [],
   "source": [
    "using JLD2\n",
    "println(\"hi there again\")\n",
    "#jldopen(\"/data/wsd01/corrdata/OO.HYS14..BHZ.OO.HYSB1..BHZ.jld2\")\n",
    "\n",
    "# /data/wsd01/corrdata/OO.HYS11..SHE.OO.HYS11..SHN.jld2\n",
    "# /data/wsd01/corrdata/OO.HYS12..SHE.OO.HYS12..SHN.jld2\n",
    "# /data/wsd01/corrdata/OO.HYS13..SHE.OO.HYS13..SHN.jld2\n",
    "# /data/wsd01/corrdata/OO.HYS14..BHE.OO.HYS14..BHN.jld2\n",
    "# /data/wsd01/corrdata/OO.HYSB1..BHE.OO.HYSB1..BHN.jld2\n",
    "# /data/wsd01/corrdata/OO.HYS14..BHZ.OO.HYSB1..BHZ.jld2"
   ]
  },
  {
   "cell_type": "markdown",
   "id": "4e74d297",
   "metadata": {},
   "source": [
    "### Loads correlation for one day --> EN: between East and North , ZZ: between Z and Z channel"
   ]
  },
  {
   "cell_type": "code",
   "execution_count": null,
   "id": "8f15d963",
   "metadata": {
    "scrolled": true
   },
   "outputs": [],
   "source": [
    "d=load_corr(\"/data/wsd01/corrdata/OO.HYS14..BHE.OO.HYS14..BHN.jld2\",\"EN\",day=\"2016-01-05\")"
   ]
  },
  {
   "cell_type": "markdown",
   "id": "a35429f7",
   "metadata": {},
   "source": [
    "## Run Below codes for loading files and running DV/V"
   ]
  },
  {
   "cell_type": "markdown",
   "id": "00497ed5",
   "metadata": {},
   "source": [
    "### loads Saved Correlation functions and Stack them daily"
   ]
  },
  {
   "cell_type": "code",
   "execution_count": null,
   "id": "50b4b0ad",
   "metadata": {},
   "outputs": [],
   "source": [
    "using SeisNoise, SeisIO, Plots\n",
    "using Dates \n",
    "d=load_corr(\"/data/wsd01/corrdata/raw/OO.HYS14..BHZ.OO.HYSB1..BHZ.jld2\",\"ZZ\")\n",
    "dailystk=stack(d,interval=Day(1))\n",
    "allstk=stack(d,allstack=true)\n",
    "plot(allstk)"
   ]
  },
  {
   "cell_type": "code",
   "execution_count": null,
   "id": "4056d51f",
   "metadata": {},
   "outputs": [],
   "source": [
    "clean_up!(dailystk,0.1,0.2)\n",
    "abs_max!(dailystk)\n",
    "plot(dailystk)"
   ]
  },
  {
   "cell_type": "code",
   "execution_count": null,
   "id": "ca2ecc88",
   "metadata": {},
   "outputs": [],
   "source": [
    "dailystk"
   ]
  },
  {
   "cell_type": "markdown",
   "id": "d20495a2",
   "metadata": {},
   "source": [
    "### Resolving DV/V from Allstack and Daily Stack"
   ]
  },
  {
   "cell_type": "code",
   "execution_count": null,
   "id": "c566bc2b",
   "metadata": {},
   "outputs": [],
   "source": [
    "using SeisDvv\n",
    "fs=40.0     # sample frequency\n",
    "win_len=30.0  # sliding window length\n",
    "win_step=10. # sliding window step\n",
    "j=1958\n",
    "dvt=zeros(j)\n",
    "cct=zeros(j)\n",
    "\n",
    "for i in 1:j#1890\n",
    "    S1=Array(allstk.corr[:])\n",
    "    S2=Array(dailystk.corr[:,i])\n",
    "    tmin = 25.\n",
    "    tmax = 30.\n",
    "    window = collect(range(Int(floor(tmin*fs)),Int(floor(tmax*fs)),step=1))\n",
    "    fmin = 0.1\n",
    "    fmax = 0.2\n",
    "\n",
    "    function evenly_spaced(a, b, n)\n",
    "        h = (b-a)/(n-1)\n",
    "        collect(a:h:b)\n",
    "    end\n",
    "\n",
    "    time=evenly_spaced(-60,60,4801)\n",
    "\n",
    "    dvv_ts, cc_ts, cdp_Ts, eps_ts, err_ts, allC_ts = SeisDvv.stretching(S1, S2, time, window, fmin, fmax, dvmin=-0.02, dvmax=0.02, ntrial=100);\n",
    "    dvt[i]=dvv_ts\n",
    "    cct[i]=cc_ts\n",
    "    \n",
    "end"
   ]
  },
  {
   "cell_type": "code",
   "execution_count": null,
   "id": "883e47e5",
   "metadata": {},
   "outputs": [],
   "source": [
    "plot(dvt)"
   ]
  },
  {
   "cell_type": "code",
   "execution_count": null,
   "id": "ddb46ac0",
   "metadata": {},
   "outputs": [],
   "source": [
    "using Dates\n",
    "\n",
    "r=map(unix2datetime,dailystk.t)\n",
    "\n",
    "plot(r[70:900],dvt[70:900],seriestype = :line)"
   ]
  },
  {
   "cell_type": "code",
   "execution_count": null,
   "id": "c0683f30",
   "metadata": {},
   "outputs": [],
   "source": [
    "r"
   ]
  },
  {
   "cell_type": "code",
   "execution_count": null,
   "id": "e1e25999",
   "metadata": {},
   "outputs": [],
   "source": [
    "using MarketTechnicals\n",
    "a=sma(dvt[70:900], 30)"
   ]
  },
  {
   "cell_type": "code",
   "execution_count": null,
   "id": "108582f6",
   "metadata": {},
   "outputs": [],
   "source": [
    "plot(a,seriestype = :line)"
   ]
  },
  {
   "cell_type": "markdown",
   "id": "284461d1",
   "metadata": {},
   "source": [
    "### terminal commands\n",
    "\n",
    "htop\n",
    "df\n",
    "ls\n",
    "cd\n",
    "ls -lh\n"
   ]
  },
  {
   "cell_type": "code",
   "execution_count": null,
   "id": "7fe7277d",
   "metadata": {},
   "outputs": [],
   "source": [
    "function evenly_spaced(a, b, n)\n",
    "    h = (b-a)/(n-1)\n",
    "    collect(a:h:b)\n",
    "end\n",
    "\n",
    "time=evenly_spaced(-60,60,4801)\n"
   ]
  },
  {
   "cell_type": "code",
   "execution_count": null,
   "id": "408022af",
   "metadata": {},
   "outputs": [],
   "source": [
    "j=2015\n",
    "i=63\n",
    "        if i<10\n",
    "            a=string(\"/data/wsd01/OOI-Data/HYSB1/\",string(j),\"/00\",string(i),\"/HYSB1.OO.\",string(j),\".00\",string(i),\".SHZ\")\n",
    "            b=string(\"/data/wsd01/OOI-Data/HYS14/\",string(j),\"/00\",string(i),\"/HYS14.OO.\",string(j),\".00\",string(i),\".SHZ\")\n",
    "        elseif i>=10 && i<100\n",
    "            a=string(\"/data/wsd01/OOI-Data/HYSB1/\",string(j),\"/0\",string(i),\"/HYSB1.OO.\",string(j),\".0\",string(i),\".SHZ\")\n",
    "            b=string(\"/data/wsd01/OOI-Data/HYS14/\",string(j),\"/0\",string(i),\"/HYS14.OO.\",string(j),\".0\",string(i),\".SHZ\")\n",
    "        elseif i>=100 && i<1000\n",
    "            a=string(\"/data/wsd01/OOI-Data/HYSB1/\",string(j),\"/\",string(i),\"/HYSB1.OO.\",string(j),\".\",string(i),\".SHZ\")\n",
    "            b=string(\"/data/wsd01/OOI-Data/HYS14/\",string(j),\"/\",string(i),\"/HYS14.OO.\",string(j),\".\",string(i),\".SHZ\")\n",
    "        end\n",
    "\n",
    "S1=read_data(a)\n",
    "S=read_data(b)\n",
    "S.fs\n",
    "fs/2"
   ]
  },
  {
   "cell_type": "code",
   "execution_count": null,
   "id": "c304f516",
   "metadata": {},
   "outputs": [],
   "source": [
    "merge!(S)\n",
    "    ungap!(S)\n",
    "\tdetrend!(S)         # remove mean & trend from channel\n",
    "\ttaper!(S)                      # taper channel ends\n",
    "\t"
   ]
  },
  {
   "cell_type": "code",
   "execution_count": null,
   "id": "b9c7cad8",
   "metadata": {},
   "outputs": [],
   "source": [
    "if fs ∉ S.fs\n",
    "\t\tfiltfilt!(S,fh=Float64(fs/2),rt=\"Lowpass\")    # lowpass filter before downsampling\n",
    "\tend\n",
    "\tresample!(S,fs=Float64(fs)) # downsample to lower fs\n",
    "\ttaper!(S)"
   ]
  },
  {
   "cell_type": "code",
   "execution_count": null,
   "id": "873cf0e8",
   "metadata": {},
   "outputs": [],
   "source": [
    "a=zeros(2009)\n",
    "for i=1:2009\n",
    "    a[i]=unix2datetime(dailystk.t[i])\n",
    "end"
   ]
  },
  {
   "cell_type": "code",
   "execution_count": null,
   "id": "cb87c94d",
   "metadata": {},
   "outputs": [],
   "source": [
    "filtfilt!(S,fh=Float64(18.0),rt=\"Lowpass\")"
   ]
  },
  {
   "cell_type": "code",
   "execution_count": null,
   "id": "41ba974d",
   "metadata": {},
   "outputs": [],
   "source": [
    "process_raw(S,40.)"
   ]
  },
  {
   "cell_type": "code",
   "execution_count": null,
   "id": "fc40499a",
   "metadata": {},
   "outputs": [],
   "source": [
    "resample!(C,Float64(fs)) # downsample to lower fs\n",
    "taper!(C)\n",
    "phase_shift!(C, ϕshift=ϕshift) # timing offset from sampling period\n",
    "return nothing"
   ]
  }
 ],
 "metadata": {
  "kernelspec": {
   "display_name": "Julia 1.7.2",
   "language": "julia",
   "name": "julia-1.7"
  },
  "language_info": {
   "file_extension": ".jl",
   "mimetype": "application/julia",
   "name": "julia",
   "version": "1.7.2"
  }
 },
 "nbformat": 4,
 "nbformat_minor": 5
}
