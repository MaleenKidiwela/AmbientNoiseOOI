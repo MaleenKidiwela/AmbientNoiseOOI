{
 "cells": [
  {
   "cell_type": "markdown",
   "id": "a9339ddc",
   "metadata": {},
   "source": [
    "## SeisNoise Implementation for OOI Cabled Array Data\n",
    "\n",
    "### Standard SeisNoise code adapted to save cross correlation files of multiple years between two specific stations\n"
   ]
  },
  {
   "cell_type": "code",
   "execution_count": 1,
   "id": "ac52eb28",
   "metadata": {},
   "outputs": [
    {
     "name": "stderr",
     "output_type": "stream",
     "text": [
      "WARNING: could not import HDF5.Group into _hdf5_implementation\n",
      "WARNING: could not import HDF5.Dataset into _hdf5_implementation\n",
      "┌ Warning: Error requiring `HDF5` from `Plots`\n",
      "│   exception = (LoadError(\"/home/seismic/.julia/packages/Plots/1KWPG/src/backends/hdf5.jl\", 36, UndefVarError(:Group)), Union{Ptr{Nothing}, Base.InterpreterIP}[Ptr{Nothing} @0x00007fe27a9b847f, Ptr{Nothing} @0x00007fe27aa5770c, Ptr{Nothing} @0x00007fe27aa57e75, Ptr{Nothing} @0x00007fe27aa5790d, Ptr{Nothing} @0x00007fe27aa586d1, Ptr{Nothing} @0x00007fe27aa592f7, Base.InterpreterIP in top-level CodeInfo for Plots._hdf5_implementation at statement 4, Ptr{Nothing} @0x00007fe27aa767a3, Ptr{Nothing} @0x00007fe27aa76e3c, Ptr{Nothing} @0x00007fe27aa769e4, Ptr{Nothing} @0x00007fe27aa769e4, Ptr{Nothing} @0x00007fe27aa78629, Ptr{Nothing} @0x00007fe25a5ab83a, Ptr{Nothing} @0x00007fe27aa38e09, Ptr{Nothing} @0x00007fe25a69b35a, Ptr{Nothing} @0x00007fe25a1b8c15, Ptr{Nothing} @0x00007fe27aa38e09, Ptr{Nothing} @0x00007fe27aa495d6, Ptr{Nothing} @0x00007fe2580dcfaa, Ptr{Nothing} @0x00007fe27aa38e09, Ptr{Nothing} @0x00007fe27aa57e95, Ptr{Nothing} @0x00007fe27aa5790d, Ptr{Nothing} @0x00007fe27aa586d1, Ptr{Nothing} @0x00007fe27aa592f7, Base.InterpreterIP in top-level CodeInfo for Plots at statement 10, Ptr{Nothing} @0x00007fe27aa767a3, Ptr{Nothing} @0x00007fe27aa78629, Ptr{Nothing} @0x00007fe2580dcf27, Ptr{Nothing} @0x00007fe2580dcf4f, Ptr{Nothing} @0x00007fe27aa38e09, Ptr{Nothing} @0x00007fe27aa57e95, Ptr{Nothing} @0x00007fe27aa5790d, Ptr{Nothing} @0x00007fe27aa58765, Ptr{Nothing} @0x00007fe27aa58a3c, Ptr{Nothing} @0x00007fe27aa58eea, Base.InterpreterIP in MethodInstance for Requires.err(::Any, ::Module, ::String, ::String, ::Any) at statement 8, Ptr{Nothing} @0x00007fe2580dce85, Ptr{Nothing} @0x00007fe2580dce9f, Ptr{Nothing} @0x00007fe27aa38e09, Ptr{Nothing} @0x00007fe27aa57e95, Ptr{Nothing} @0x00007fe27aa5790d, Ptr{Nothing} @0x00007fe27aa58765, Ptr{Nothing} @0x00007fe27aa58a3c, Ptr{Nothing} @0x00007fe27aa58eea, Base.InterpreterIP in MethodInstance for Requires.withpath(::Any, ::String) at statement 10, Ptr{Nothing} @0x00007fe2580dcd4d, Ptr{Nothing} @0x00007fe2580dcdff, Ptr{Nothing} @0x00007fe27aa38e09, Ptr{Nothing} @0x00007fe27aa57e95, Ptr{Nothing} @0x00007fe27aa5790d, Ptr{Nothing} @0x00007fe27aa586d1, Ptr{Nothing} @0x00007fe27aa58eea, Base.InterpreterIP in MethodInstance for Requires.listenpkg(::Any, ::Base.PkgId) at statement 3, Ptr{Nothing} @0x00007fe2580d059b, Ptr{Nothing} @0x00007fe2580d14ff, Ptr{Nothing} @0x00007fe27aa38e09, Ptr{Nothing} @0x00007fe27aa75e3f, Ptr{Nothing} @0x00007fe27aa6b4dc, Ptr{Nothing} @0x00007fe2580b612a, Ptr{Nothing} @0x00007fe2580b751b, Ptr{Nothing} @0x00007fe2580b9810, Ptr{Nothing} @0x00007fe2580bbcd2, Ptr{Nothing} @0x00007fe2580c0e58, Ptr{Nothing} @0x00007fe27aa38e09, Ptr{Nothing} @0x00007fe27aa75601, Ptr{Nothing} @0x00007fe27aa77926, Ptr{Nothing} @0x00007fe27aa769e4, Ptr{Nothing} @0x00007fe27aa78629, Ptr{Nothing} @0x00007fe25809387c, Ptr{Nothing} @0x00007fe258093c69, Ptr{Nothing} @0x00007fe27aa38e09, Ptr{Nothing} @0x00007fe25809193c, Ptr{Nothing} @0x00007fe27aa38e09, Ptr{Nothing} @0x00007fe27aa495d6, Ptr{Nothing} @0x00007fe2580898ca, Ptr{Nothing} @0x00007fe258089e5a, Ptr{Nothing} @0x00007fe258089e6f, Ptr{Nothing} @0x00007fe27aa38e09, Ptr{Nothing} @0x00007fe27aa5d24e])\n",
      "└ @ Requires /home/seismic/.julia/packages/Requires/Z8rfN/src/require.jl:51\n",
      "┌ Warning: Inconsistent file header endianness!\n",
      "└ @ SeisIO /home/seismic/.julia/packages/SeisIO/JgSIN/src/Utils/guess.jl:196\n",
      "┌ Warning: Inconsistent file header endianness!\n",
      "└ @ SeisIO /home/seismic/.julia/packages/SeisIO/JgSIN/src/Utils/guess.jl:196\n"
     ]
    }
   ],
   "source": [
    "using SeisNoise, SeisIO, Plots, HDF5\n",
    "fs = 40. # sampling frequency in Hz\n",
    "#freqmin,freqmax = 0.1,0.2 # min and max frequencies\n",
    "freqmin,freqmax = 0.2,1 \n",
    "cc_step, cc_len = 450, 1800 # corrleation step and length in S\n",
    "maxlag = 60. # maximum lag time in correlation\n",
    "\n",
    "for j in 2015:2020\n",
    "    if j==2020\n",
    "        m=1\n",
    "        k=365\n",
    "    elseif j==2015\n",
    "        m=63\n",
    "        k=360\n",
    "    elseif j==2016\n",
    "        m=1\n",
    "        k=366\n",
    "    else\n",
    "        m=1\n",
    "        k=365\n",
    "    end\n",
    "        \n",
    "        \n",
    "    for i in m:k \n",
    "\n",
    "        if i<10\n",
    "            a=string(\"/data/wsd01/OOI-Data/HYS13/\",string(j),\"/00\",string(i),\"/HYS13.OO.\",string(j),\".00\",string(i),\".SHE\")\n",
    "            b=string(\"/data/wsd01/OOI-Data/HYS13/\",string(j),\"/00\",string(i),\"/HYS13.OO.\",string(j),\".00\",string(i),\".SHN\")\n",
    "        elseif i>=10 && i<100\n",
    "            a=string(\"/data/wsd01/OOI-Data/HYS13/\",string(j),\"/0\",string(i),\"/HYS13.OO.\",string(j),\".0\",string(i),\".SHE\")\n",
    "            b=string(\"/data/wsd01/OOI-Data/HYS13/\",string(j),\"/0\",string(i),\"/HYS13.OO.\",string(j),\".0\",string(i),\".SHN\")\n",
    "        elseif i>=100 && i<1000\n",
    "            a=string(\"/data/wsd01/OOI-Data/HYS13/\",string(j),\"/\",string(i),\"/HYS13.OO.\",string(j),\".\",string(i),\".SHE\")\n",
    "            b=string(\"/data/wsd01/OOI-Data/HYS13/\",string(j),\"/\",string(i),\"/HYS13.OO.\",string(j),\".\",string(i),\".SHN\")\n",
    "        end\n",
    "\n",
    "        y=0\n",
    "        try S1=read_data(a) catch; y=1 end\n",
    "        try S2=read_data(b) catch; y=1 end\n",
    "        try process_raw!(S1,fs) catch; y=1 end\n",
    "        try process_raw!(S2,fs) catch; y=1 end\n",
    "        \n",
    "        if y==0\n",
    "            S1=read_data(a)\n",
    "            S2=read_data(b)\n",
    "            process_raw!(S1,fs)\n",
    "            process_raw!(S2,fs)\n",
    "            \n",
    "            if length(S1.x[])==3456000 && length(S2.x[])==3456000\n",
    "                R = RawData.([S1,S2],cc_len,cc_step)\n",
    "                detrend!.(R)\n",
    "                taper!.(R)\n",
    "                bandpass!.(R,freqmin,freqmax,zerophase=true)\n",
    "                FFT = rfft.(R)\n",
    "                whiten!.(FFT,freqmin,freqmax)\n",
    "                C = correlate(FFT[1],FFT[2],maxlag)\n",
    "                save_corr(C,\"/data/wsd01/corrdata/hfreq/\")\n",
    "            end\n",
    "            \n",
    "        end\n",
    "    \n",
    "    end\n",
    "end\n"
   ]
  },
  {
   "cell_type": "markdown",
   "id": "d3ceee24",
   "metadata": {},
   "source": [
    "### standard seisnoise code for plotting cross correlation function for one day between two stations"
   ]
  },
  {
   "cell_type": "code",
   "execution_count": null,
   "id": "3685bc2c",
   "metadata": {},
   "outputs": [],
   "source": [
    "using SeisNoise, SeisIO, Plots\n",
    "fs = 40. # sampling frequency in Hz\n",
    "freqmin,freqmax = 0.1,0.2 # min and max frequencies\n",
    "cc_step, cc_len = 450, 1800 # corrleation step and length in S\n",
    "maxlag = 60. # maximum lag time in correlation\n",
    "\n",
    "j=2020\n",
    "i=205\n",
    "        if i<10\n",
    "            a=string(\"/data/wsd01/OOI-Data/HYSB1/\",string(j),\"/00\",string(i),\"/HYSB1.OO.\",string(j),\".00\",string(i),\".SHZ\")\n",
    "            b=string(\"/data/wsd01/OOI-Data/HYS14/\",string(j),\"/00\",string(i),\"/HYS14.OO.\",string(j),\".00\",string(i),\".SHZ\")\n",
    "        elseif i>=10 && i<100\n",
    "            a=string(\"/data/wsd01/OOI-Data/HYSB1/\",string(j),\"/0\",string(i),\"/HYSB1.OO.\",string(j),\".0\",string(i),\".SHZ\")\n",
    "            b=string(\"/data/wsd01/OOI-Data/HYS14/\",string(j),\"/0\",string(i),\"/HYS14.OO.\",string(j),\".0\",string(i),\".SHZ\")\n",
    "        elseif i>=100 && i<1000\n",
    "            a=string(\"/data/wsd01/OOI-Data/HYSB1/\",string(j),\"/\",string(i),\"/HYSB1.OO.\",string(j),\".\",string(i),\".SHZ\")\n",
    "            b=string(\"/data/wsd01/OOI-Data/HYS14/\",string(j),\"/\",string(i),\"/HYS14.OO.\",string(j),\".\",string(i),\".SHZ\")\n",
    "        end\n",
    "\n",
    "        S1=read_data(a)\n",
    "        S2=read_data(b)\n",
    "\n",
    "        process_raw!(S1,fs)\n",
    "        process_raw!(S2,fs)\n",
    "\n",
    "        R = RawData.([S1,S2],cc_len,cc_step)\n",
    "        detrend!.(R)\n",
    "        taper!.(R)\n",
    "        bandpass!.(R,freqmin,freqmax,zerophase=true)\n",
    "        FFT = rfft.(R)\n",
    "        whiten!.(FFT,freqmin,freqmax)\n",
    "        C = correlate(FFT[1],FFT[2],maxlag)\n",
    "        clean_up!(C,freqmin,freqmax)\n",
    "        abs_max!(C)\n",
    "        plot(C)\n"
   ]
  },
  {
   "cell_type": "markdown",
   "id": "470d0719",
   "metadata": {},
   "source": [
    "### Save correlation matrix for one day -> debugging portal"
   ]
  },
  {
   "cell_type": "code",
   "execution_count": null,
   "id": "8d310287",
   "metadata": {},
   "outputs": [],
   "source": [
    "j=2017\n",
    "i=287        \n",
    "        if i<10\n",
    "            a=string(\"/data/wsd01/OOI-Data/HYS12/\",string(j),\"/00\",string(i),\"/HYS12.OO.\",string(j),\".00\",string(i),\".SHE\")\n",
    "            b=string(\"/data/wsd01/OOI-Data/HYS12/\",string(j),\"/00\",string(i),\"/HYS12.OO.\",string(j),\".00\",string(i),\".SHN\")\n",
    "        elseif i>=10 && i<100\n",
    "            a=string(\"/data/wsd01/OOI-Data/HYS12/\",string(j),\"/0\",string(i),\"/HYS12.OO.\",string(j),\".0\",string(i),\".SHE\")\n",
    "            b=string(\"/data/wsd01/OOI-Data/HYS12/\",string(j),\"/0\",string(i),\"/HYS12.OO.\",string(j),\".0\",string(i),\".SHN\")\n",
    "        elseif i>=100 && i<1000\n",
    "            a=string(\"/data/wsd01/OOI-Data/HYS12/\",string(j),\"/\",string(i),\"/HYS12.OO.\",string(j),\".\",string(i),\".SHE\")\n",
    "            b=string(\"/data/wsd01/OOI-Data/HYS12/\",string(j),\"/\",string(i),\"/HYS12.OO.\",string(j),\".\",string(i),\".SHN\")\n",
    "        end\n",
    "\n",
    "        y=0\n",
    "        try S1=read_data(a) catch; y=1 end\n",
    "        try S2=read_data(b) catch; y=1 end\n",
    "        try process_raw!(S1,fs) catch; y=1 end\n",
    "        try process_raw!(S2,fs) catch; y=1 end\n",
    "        \n",
    "        if y==0\n",
    "            S1=read_data(a)\n",
    "            S2=read_data(b)\n",
    "            process_raw!(S1,fs)\n",
    "            process_raw!(S2,fs)\n",
    "\n",
    "            R = RawData.([S1,S2],cc_len,cc_step)\n",
    "            detrend!.(R)\n",
    "            taper!.(R)\n",
    "            bandpass!.(R,freqmin,freqmax,zerophase=true)\n",
    "            FFT = rfft.(R)\n",
    "            whiten!.(FFT,freqmin,freqmax)\n",
    "            C = correlate(FFT[1],FFT[2],maxlag)\n",
    "            save_corr(C,\"/data/wsd01/corrdata/\")\n",
    "        end"
   ]
  },
  {
   "cell_type": "markdown",
   "id": "e5783808",
   "metadata": {},
   "source": [
    "### checks the available date entries withing the JLD file"
   ]
  },
  {
   "cell_type": "code",
   "execution_count": null,
   "id": "16ff614a",
   "metadata": {},
   "outputs": [],
   "source": [
    "using JLD2\n",
    "jldopen(\"/data/wsd01/corrdata/hfreq/OO.HYS14..BHZ.OO.HYSB1..BHZ.jld2\")\n",
    "\n",
    "# /data/wsd01/corrdata/OO.HYS11..SHE.OO.HYS11..SHN.jld2\n",
    "# /data/wsd01/corrdata/OO.HYS12..SHE.OO.HYS12..SHN.jld2\n",
    "# /data/wsd01/corrdata/OO.HYS13..SHE.OO.HYS13..SHN.jld2\n",
    "# /data/wsd01/corrdata/OO.HYS14..BHE.OO.HYS14..BHN.jld2\n",
    "# /data/wsd01/corrdata/OO.HYSB1..BHE.OO.HYSB1..BHN.jld2\n",
    "# /data/wsd01/corrdata/OO.HYS14..BHZ.OO.HYSB1..BHZ.jld2"
   ]
  },
  {
   "cell_type": "markdown",
   "id": "4e74d297",
   "metadata": {},
   "source": [
    "### Loads correlation for one day --> EN: between East and North , ZZ: between Z and Z channel"
   ]
  },
  {
   "cell_type": "code",
   "execution_count": null,
   "id": "8f15d963",
   "metadata": {
    "scrolled": true
   },
   "outputs": [],
   "source": [
    "d=load_corr(\"/data/wsd01/corrdata/OO.HYS14..BHE.OO.HYS14..BHN.jld2\",\"EN\",day=\"2016-01-05\")"
   ]
  },
  {
   "cell_type": "markdown",
   "id": "00497ed5",
   "metadata": {},
   "source": [
    "### loads Saved Correlation functions and Stack them daily ---> Plot and Save figure of stacked version"
   ]
  },
  {
   "cell_type": "code",
   "execution_count": 4,
   "id": "50b4b0ad",
   "metadata": {},
   "outputs": [
    {
     "data": {
      "text/plain": [
       "CorrData with 1252 Corrs\n",
       "      NAME: \"OO.HYS14..BHZ.OO.HYSB1..BHZ\"      \n",
       "        ID: \"2015-03-09\"                       \n",
       "       LOC: 0.0 N, 0.0 E, 0.0 m\n",
       "      COMP: \"ZZ\"                               \n",
       "   ROTATED: false                              \n",
       " CORR_TYPE: \"CC\"                               \n",
       "        FS: 40.0\n",
       "      GAIN: 1.0\n",
       "   FREQMIN: 1.0\n",
       "   FREQMAX: 5.0\n",
       "    CC_LEN: 1800.0\n",
       "   CC_STEP: 450.0\n",
       "  WHITENED: true                               \n",
       " TIME_NORM: \"\"                                 \n",
       "      RESP: a0 1.0, f0 1.0, 0z, 0p\n",
       "      MISC: 0 entries                          \n",
       "     NOTES: 7 entries                          \n",
       "      DIST: 0.0\n",
       "       AZI: 0.0\n",
       "       BAZ: 0.0\n",
       "    MAXLAG: 60.0\n",
       "         T: 2015-03-09T00:00:00                …\n",
       "      CORR: 4801×1252 Matrix{Float32}          \n"
      ]
     },
     "execution_count": 4,
     "metadata": {},
     "output_type": "execute_result"
    }
   ],
   "source": [
    "d=load_corr(\"/data/wsd01/corrdata/hfreq/OO.HYS14..BHZ.OO.HYSB1..BHZ.jld2\",\"ZZ\")\n",
    "z6=stack(d)"
   ]
  },
  {
   "cell_type": "code",
   "execution_count": 5,
   "id": "855fdfe5",
   "metadata": {},
   "outputs": [],
   "source": [
    "clean_up!(z6,freqmin,freqmax)\n",
    "abs_max!(z6)\n",
    "plot(z6)\n",
    "plot!(size=(1200,1200))\n",
    "savefig(\"HYS14HYSB1_hfreq.pdf\")"
   ]
  },
  {
   "cell_type": "code",
   "execution_count": null,
   "id": "984679e3",
   "metadata": {},
   "outputs": [],
   "source": [
    "pwd()\n",
    "ls()"
   ]
  },
  {
   "cell_type": "markdown",
   "id": "284461d1",
   "metadata": {},
   "source": [
    "### terminal commands\n",
    "\n",
    "htop\n",
    "df\n",
    "ls\n",
    "cd\n"
   ]
  },
  {
   "cell_type": "code",
   "execution_count": 9,
   "id": "7fe7277d",
   "metadata": {},
   "outputs": [
    {
     "ename": "LoadError",
     "evalue": "syntax: extra token \"compute_fft\" after end of expression",
     "output_type": "error",
     "traceback": [
      "syntax: extra token \"compute_fft\" after end of expression",
      "",
      "Stacktrace:",
      " [1] top-level scope",
      "   @ In[9]:1",
      " [2] eval",
      "   @ ./boot.jl:373 [inlined]",
      " [3] include_string(mapexpr::typeof(REPL.softscope), mod::Module, code::String, filename::String)",
      "   @ Base ./loading.jl:1196"
     ]
    }
   ],
   "source": [
    "open compute_fft.jl"
   ]
  },
  {
   "cell_type": "code",
   "execution_count": null,
   "id": "d67510ef",
   "metadata": {},
   "outputs": [],
   "source": []
  }
 ],
 "metadata": {
  "kernelspec": {
   "display_name": "Julia 1.7.2",
   "language": "julia",
   "name": "julia-1.7"
  },
  "language_info": {
   "file_extension": ".jl",
   "mimetype": "application/julia",
   "name": "julia",
   "version": "1.7.2"
  }
 },
 "nbformat": 4,
 "nbformat_minor": 5
}
